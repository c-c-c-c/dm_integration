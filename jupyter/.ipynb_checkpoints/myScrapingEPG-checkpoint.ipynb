{
 "cells": [
  {
   "cell_type": "code",
   "execution_count": 1,
   "metadata": {
    "colab": {},
    "colab_type": "code",
    "id": "T09KX0vQ2Kwb"
   },
   "outputs": [],
   "source": [
    "import numpy as np # linear algebra\n",
    "import pandas as pd # data processing, CSV file I/O (e.g. pd.read_csv)\n",
    "# Suppress warnings \n",
    "import warnings\n",
    "warnings.filterwarnings('ignore')\n",
    "import gc\n",
    "\n",
    "# matplotlib and seaborn for plotting\n",
    "import matplotlib.pyplot as plt\n",
    "%matplotlib inline\n",
    "import seaborn as sns\n",
    "\n",
    "#追記\n",
    "import json\n",
    "import datetime\n",
    "import math\n",
    "\n",
    "from urllib import request\n",
    "from bs4 import BeautifulSoup\n",
    "import urllib.request\n",
    "import requests\n",
    "import re\n",
    "\n",
    "#importじゃないけど、個人的には省略されて良いことがあまりないので・・\n",
    "pd.set_option('display.max_columns', 500)\n",
    "pd.set_option('display.max_rows', 1000)"
   ]
  },
  {
   "cell_type": "code",
   "execution_count": 2,
   "metadata": {
    "colab": {},
    "colab_type": "code",
    "id": "HZ8w7ke32Kwq"
   },
   "outputs": [],
   "source": [
    "# df_vr = pd.read_csv(\"../data/viewing_rating.csv\", encoding='cp932')"
   ]
  },
  {
   "cell_type": "code",
   "execution_count": null,
   "metadata": {
    "colab": {},
    "colab_type": "code",
    "id": "KZndHPzH4vWQ"
   },
   "outputs": [],
   "source": []
  },
  {
   "cell_type": "code",
   "execution_count": null,
   "metadata": {
    "colab": {},
    "colab_type": "code",
    "id": "RoWRLjvz4wUD"
   },
   "outputs": [],
   "source": []
  },
  {
   "cell_type": "code",
   "execution_count": null,
   "metadata": {
    "colab": {},
    "colab_type": "code",
    "id": "xnRquv-B4woZ"
   },
   "outputs": [],
   "source": []
  },
  {
   "cell_type": "code",
   "execution_count": null,
   "metadata": {
    "colab": {},
    "colab_type": "code",
    "id": "ohRpwRz14w8y"
   },
   "outputs": [],
   "source": []
  },
  {
   "cell_type": "code",
   "execution_count": 15,
   "metadata": {
    "colab": {},
    "colab_type": "code",
    "id": "vATFVxlf2KxG"
   },
   "outputs": [],
   "source": [
    "# URLごとにスクレイピングを行う\n",
    "def scraping(url, drama_title):\n",
    "    \n",
    "    tmp_drama_desc_dict = {}\n",
    "    \n",
    "    #ページに複数ある対象部分を取得する\n",
    "    html = request.urlopen(url)\n",
    "    soup = BeautifulSoup(html, fromEncoding=\"utf-8\")\n",
    "    for title in soup.find_all(class_=\"program_title\"):\n",
    "    # print (title.contents[0])\n",
    "        pattern = r\".*\"+drama_title\n",
    "#         import pdb; pdb.set_trace()\n",
    "        matchTitle = re.findall(pattern, str(title))\n",
    "\n",
    "        if matchTitle : \n",
    "            # urlを取得\n",
    "            url = re.findall('href=\"(.+?)\"', matchTitle[0])\n",
    "            print(url)\n",
    "            \n",
    "            \n",
    "    return tmp_drama_desc_dict"
   ]
  },
  {
   "cell_type": "code",
   "execution_count": 16,
   "metadata": {
    "colab": {
     "base_uri": "https://localhost:8080/",
     "height": 328
    },
    "colab_type": "code",
    "id": "UNKoOjUN2KxN",
    "outputId": "cf707fcb-c5da-413a-c807-08803040bf39"
   },
   "outputs": [
    {
     "name": "stdout",
     "output_type": "stream",
     "text": [
      "['http://timetable.yanbe.net/pdv.cgi?d=20160215&amp;p=13&amp;v=1&amp;c=109101056201602152100']\n"
     ]
    },
    {
     "data": {
      "text/plain": [
       "{}"
      ]
     },
     "execution_count": 16,
     "metadata": {},
     "output_type": "execute_result"
    }
   ],
   "source": [
    "#scraping(\"http://www.tvdrama-db.com/drama_info/p/id-55112\")\n",
    "scraping(\"http://timetable.yanbe.net/html/13/2016/02/15_1.html?13\")\n"
   ]
  },
  {
   "cell_type": "code",
   "execution_count": null,
   "metadata": {
    "colab": {},
    "colab_type": "code",
    "id": "qof0o_Jt2KxU",
    "outputId": "dfbd10a1-c23f-4fed-dacc-9a5baae06904"
   },
   "outputs": [],
   "source": [
    "###########\n",
    "# 実行本体\n",
    "#\n",
    "drama_desc_dict = {}\n",
    "# for tmp_did in range(30000, 67000):\n",
    "# for tmp_did in range(60000, 60100):\n",
    "    \n",
    "#     tmp_url = \"http://www.tvdrama-db.com/drama_info/p/id-\" + str(tmp_did)\n",
    "#     print (tmp_url)\n",
    "#     tmp_drama_desc_dict = scraping(tmp_url)\n",
    "# #     drama_desc_dict.update(tmp_drama_desc_dict)\n",
    "\n",
    "# import pprint\n",
    "# pprint.pprint(drama_desc_dict)\n"
   ]
  },
  {
   "cell_type": "code",
   "execution_count": null,
   "metadata": {
    "colab": {},
    "colab_type": "code",
    "id": "MuCpqQ3R2KxZ",
    "outputId": "9c77a46d-f2ed-4303-f43c-d36c509ea035"
   },
   "outputs": [],
   "source": [
    "import json\n",
    "fw = open('../data/drama_desc0122.json','w')\n",
    "# json.dump関数でファイルに書き込む\n",
    "json.dump(simple_json ,fw,indent=4, ensure_ascii=False)\n"
   ]
  },
  {
   "cell_type": "code",
   "execution_count": null,
   "metadata": {
    "colab": {},
    "colab_type": "code",
    "id": "GJqD6A8_2Kxe"
   },
   "outputs": [],
   "source": []
  }
 ],
 "metadata": {
  "colab": {
   "name": "myScrapingEPG.ipynb",
   "provenance": []
  },
  "kernelspec": {
   "display_name": "Python 3",
   "language": "python",
   "name": "python3"
  },
  "language_info": {
   "codemirror_mode": {
    "name": "ipython",
    "version": 3
   },
   "file_extension": ".py",
   "mimetype": "text/x-python",
   "name": "python",
   "nbconvert_exporter": "python",
   "pygments_lexer": "ipython3",
   "version": "3.7.3"
  }
 },
 "nbformat": 4,
 "nbformat_minor": 1
}
