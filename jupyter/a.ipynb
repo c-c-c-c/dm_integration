Last login: Sat Feb  8 21:19:37 on ttys001
You have new mail.
-bash: rbenv: command not found
-bash: “”: command not found
(base) 4c-mac:workspace_python yoshimurahiroyuki$ ls
00_integration
Advance_DL
Advance_NLP
BS_補講資料_8月期.pdf
Basic_Statistics_講義資料_8月期.pdf
Basic_stats
Bootcamp_machine_learning
Bootcamp_machine_learning 2
Excel-SGD-NN.xlsx
MAobaQ
NLP-Day1-scraping.ipynb
Paiza
PyQ
basic_ML_PBL
basic_machine_learning
bootcamp_stats
coARiJ.ipynb
date_IP.csv
gbt_lecture
google-cloud-sdk
kaggle_ashrae
kaggle_house_prices
kaggle_santa
kaggle_titanic
kaggleのチュートリアル第4版.pdf
kaggleのチュートリアル第4版_ver2_booth.pdf
mecab_src
myAnalysysRainy.ipynb
pbl_tel
recommend_tutorial
techgym_ai-master
techgym_python_open-master
講義資料_Basic_ML_8月期.pdf
講義資料_Basic_ML_PBL_解答例_8月期.pdf
講義資料_Bootcamp_Machine-Learning_v4 (1).pdf
講義資料_Bootcamp_Machine-Learning_v4.pdf
講義資料_Bootcamp_Statistics_v5 (1).pdf
講義資料_Bootcamp_Statistics_v5.pdf
自然言語処理_講義資料_2019年08月期.pdf
手で書いて覚える機械学習アルゴリズム_教師あり学習.pdf
(base) 4c-mac:workspace_python yoshimurahiroyuki$ pwd
/Users/yoshimurahiroyuki/workspace_python
(base) 4c-mac:workspace_python yoshimurahiroyuki$ cd 00_integration/
(base) 4c-mac:00_integration yoshimurahiroyuki$ ls
Word Work File D_.tmp			past
analytics_plan				scrapingEpgDetail.ipynb
data					task_list
jupyter					スライドスケルトン.xlsx
(base) 4c-mac:00_integration yoshimurahiroyuki$ cd jupyter/
(base) 4c-mac:jupyter yoshimurahiroyuki$ 
(base) 4c-mac:jupyter yoshimurahiroyuki$ ls
NLP.ipynb			myMecab.ipynb
PPastmyWrangling.ipynb		myScraping.ipynb
Past_myWrangling.ipynb		myScrapingDescription.ipynb
Untitled.ipynb			myScrapingEPG.ipynb
data				myWrangling.ipynb
(base) 4c-mac:jupyter yoshimurahiroyuki$ vi myMecab.ipynb 
You have new mail in /var/mail/yoshimurahiroyuki
(base) 4c-mac:jupyter yoshimurahiroyuki$ vi my
myMecab.ipynb                myScrapingDescription.ipynb  myWrangling.ipynb            
myScraping.ipynb             myScrapingEPG.ipynb          
(base) 4c-mac:jupyter yoshimurahiroyuki$ vi my
myMecab.ipynb                myScrapingDescription.ipynb  myWrangling.ipynb            
myScraping.ipynb             myScrapingEPG.ipynb          
(base) 4c-mac:jupyter yoshimurahiroyuki$ vi myMecab.ipynb 
You have new mail in /var/mail/yoshimurahiroyuki
(base) 4c-mac:jupyter yoshimurahiroyuki$ vi myMecab.ipynb 







       "4                       NaN  \n",
       "...                     ...  \n",
       "7662                    NaN  \n",
       "7663                    NaN  \n",
       "7664                    NaN  \n",
       "7665                    NaN  \n",
       "7666                    NaN  \n",
       "\n",
       "[7667 rows x 9 columns]"
      ]   
     },  
     "execution_count": 11, 
     "metadata": {}, 
     "output_type": "execute_result"
    }   
   ],  
   "source": [
    "df"
   ]   
  },  
  {
   "cell_type": "markdown",
   "metadata": {
    "colab_type": "text",
    "id": "olxLP4TBa-9H"
   },  
   "source": [
    " " 
   ]   
  },  
 
 } 


