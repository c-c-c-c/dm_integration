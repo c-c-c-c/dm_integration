{
  "nbformat": 4,
  "nbformat_minor": 0,
  "metadata": {
    "colab": {
      "name": "myScrapingEPG.ipynb",
      "provenance": []
    },
    "kernelspec": {
      "display_name": "Python 3",
      "language": "python",
      "name": "python3"
    },
    "language_info": {
      "codemirror_mode": {
        "name": "ipython",
        "version": 3
      },
      "file_extension": ".py",
      "mimetype": "text/x-python",
      "name": "python",
      "nbconvert_exporter": "python",
      "pygments_lexer": "ipython3",
      "version": "3.7.3"
    }
  },
  "cells": [
    {
      "cell_type": "code",
      "metadata": {
        "colab_type": "code",
        "id": "T09KX0vQ2Kwb",
        "colab": {}
      },
      "source": [
        "import numpy as np # linear algebra\n",
        "import pandas as pd # data processing, CSV file I/O (e.g. pd.read_csv)\n",
        "# Suppress warnings \n",
        "import warnings\n",
        "warnings.filterwarnings('ignore')\n",
        "import gc\n",
        "\n",
        "# matplotlib and seaborn for plotting\n",
        "import matplotlib.pyplot as plt\n",
        "%matplotlib inline\n",
        "import seaborn as sns\n",
        "\n",
        "#追記\n",
        "import json\n",
        "import datetime\n",
        "import math\n",
        "\n",
        "from urllib import request\n",
        "from bs4 import BeautifulSoup\n",
        "import urllib.request\n",
        "import requests\n",
        "import re\n",
        "\n",
        "#importじゃないけど、個人的には省略されて良いことがあまりないので・・\n",
        "pd.set_option('display.max_columns', 500)\n",
        "pd.set_option('display.max_rows', 1000)"
      ],
      "execution_count": 0,
      "outputs": []
    },
    {
      "cell_type": "code",
      "metadata": {
        "colab_type": "code",
        "id": "HZ8w7ke32Kwq",
        "colab": {}
      },
      "source": [
        "# df_vr = pd.read_csv(\"../data/viewing_rating.csv\", encoding='cp932')"
      ],
      "execution_count": 0,
      "outputs": []
    },
    {
      "cell_type": "code",
      "metadata": {
        "colab_type": "code",
        "id": "KZndHPzH4vWQ",
        "colab": {}
      },
      "source": [
        ""
      ],
      "execution_count": 0,
      "outputs": []
    },
    {
      "cell_type": "code",
      "metadata": {
        "colab_type": "code",
        "id": "RoWRLjvz4wUD",
        "colab": {}
      },
      "source": [
        "def makeUrl (tmp_date) :\n",
        "    \n",
        "    tmp_url = 'http://timetable.yanbe.net/html/13/'+ str(tmp_date.year)+\"/\" + str(tmp_date.strftime(\"%m\"))  + '/' + str(tmp_date.strftime(\"%d\")) +'_1.html'\n",
        "    return tmp_url\n",
        "    "
      ],
      "execution_count": 0,
      "outputs": []
    },
    {
      "cell_type": "code",
      "metadata": {
        "colab_type": "code",
        "id": "xnRquv-B4woZ",
        "colab": {
          "base_uri": "https://localhost:8080/",
          "height": 35
        },
        "outputId": "3258ddf2-95eb-412c-e38e-ecdcc7658e7e"
      },
      "source": [
        "tmpd = datetime.date(2008,8,1)\n",
        "\n",
        "makeUrl(tmpd)"
      ],
      "execution_count": 3,
      "outputs": [
        {
          "output_type": "execute_result",
          "data": {
            "text/plain": [
              "'http://timetable.yanbe.net/html/13/2008/08/01_1.html'"
            ]
          },
          "metadata": {
            "tags": []
          },
          "execution_count": 3
        }
      ]
    },
    {
      "cell_type": "code",
      "metadata": {
        "colab_type": "code",
        "id": "ohRpwRz14w8y",
        "colab": {}
      },
      "source": [
        ""
      ],
      "execution_count": 0,
      "outputs": []
    },
    {
      "cell_type": "code",
      "metadata": {
        "colab_type": "code",
        "id": "vATFVxlf2KxG",
        "colab": {}
      },
      "source": [
        "# URLごとにスクレイピングを行う\n",
        "def scraping(url, drama_title):\n",
        "    \n",
        "    tmp_drama_desc_dict = {}\n",
        "    \n",
        "    #ページに複数ある対象部分を取得する\n",
        "    html = request.urlopen(url)\n",
        "    soup = BeautifulSoup(html, fromEncoding=\"utf-8\")\n",
        "    for title in soup.find_all(class_=\"program_title\"):\n",
        "    # print (title.contents[0])\n",
        "        pattern = r\".*\"+drama_title\n",
        "#         import pdb; pdb.set_trace()\n",
        "        matchTitle = re.findall(pattern, str(title))\n",
        "\n",
        "        if matchTitle : \n",
        "            # urlを取得\n",
        "            url = re.findall('href=\"(.+?)\"', matchTitle[0])\n",
        "            print(url)\n",
        "            \n",
        "            \n",
        "    return tmp_drama_desc_dict"
      ],
      "execution_count": 0,
      "outputs": []
    },
    {
      "cell_type": "code",
      "metadata": {
        "colab_type": "code",
        "id": "UNKoOjUN2KxN",
        "outputId": "887ca651-0bc2-4d8b-c4d2-dd6ae82acabc",
        "colab": {
          "base_uri": "https://localhost:8080/",
          "height": 110
        }
      },
      "source": [
        "#scraping(\"http://www.tvdrama-db.com/drama_info/p/id-55112\")\n",
        "scraping(\"http://timetable.yanbe.net/html/13/2016/02/15_1.html?13\",\"いつかこの\" )\n",
        "scraping(\"http://timetable.yanbe.net/html/13/2016/02/15_1.html?13\",\"Oha\" )\n"
      ],
      "execution_count": 5,
      "outputs": [
        {
          "output_type": "stream",
          "text": [
            "['http://timetable.yanbe.net/pdv.cgi?d=20160215&amp;p=13&amp;v=1&amp;c=109101056201602152100']\n",
            "['http://timetable.yanbe.net/pdv.cgi?d=20160215&amp;p=13&amp;v=1&amp;c=104101040201602150400']\n",
            "['http://timetable.yanbe.net/pdv.cgi?d=20160215&amp;p=13&amp;v=1&amp;c=104101040201602160400']\n"
          ],
          "name": "stdout"
        },
        {
          "output_type": "execute_result",
          "data": {
            "text/plain": [
              "{}"
            ]
          },
          "metadata": {
            "tags": []
          },
          "execution_count": 5
        }
      ]
    },
    {
      "cell_type": "code",
      "metadata": {
        "colab_type": "code",
        "id": "qof0o_Jt2KxU",
        "outputId": "5f39ee71-32a9-414b-b85f-367ff2a4a900",
        "colab": {
          "base_uri": "https://localhost:8080/",
          "height": 144
        }
      },
      "source": [
        "###########\n",
        "# 実行本体\n",
        "#\n",
        "drama_desc_dict = {}\n",
        "\n",
        "conf_years = range(2008,2020)\n",
        "conf_start_month = [1,4,7,10]\n",
        "tmp_date = datetime.date(2008,3,4)\n",
        "\n",
        "# breakpoint()\n",
        "print(tmp_date)\n",
        "tmp_url = makeUrl(tmp_date)\n",
        "\n",
        "scraping(tmp_url ,\"ニュース\")\n",
        "\n",
        "# breakpoint()\n",
        "\n",
        "# for tmp_did in range(30000, 67000):\n",
        "# for tmp_did in range(60000, 60100):\n",
        "    \n",
        "#     tmp_url = \"http://www.tvdrama-db.com/drama_info/p/id-\" + str(tmp_did)\n",
        "#     print (tmp_url)\n",
        "#     tmp_drama_desc_dict = scraping(tmp_url)\n",
        "# #     drama_desc_dict.update(tmp_drama_desc_dict)\n",
        "\n",
        "# import pprint\n",
        "# pprint.pprint(drama_desc_dict)\n"
      ],
      "execution_count": 13,
      "outputs": [
        {
          "output_type": "stream",
          "text": [
            "2008-03-04\n",
            "['http://timetable.yanbe.net/pdv.cgi?d=20080304&amp;p=13&amp;v=1&amp;c=107101072200803041100']\n",
            "['http://timetable.yanbe.net/pdv.cgi?d=20080304&amp;p=13&amp;v=1&amp;c=103101040200803041130']\n",
            "['http://timetable.yanbe.net/pdv.cgi?d=20080304&amp;p=13&amp;v=1&amp;c=106101064200803041455']\n",
            "['http://timetable.yanbe.net/pdv.cgi?d=20080304&amp;p=13&amp;v=1&amp;c=103101040200803042054']\n",
            "['http://timetable.yanbe.net/pdv.cgi?d=20080304&amp;p=13&amp;v=1&amp;c=108123608200803050400']\n"
          ],
          "name": "stdout"
        },
        {
          "output_type": "execute_result",
          "data": {
            "text/plain": [
              "{}"
            ]
          },
          "metadata": {
            "tags": []
          },
          "execution_count": 13
        }
      ]
    },
    {
      "cell_type": "code",
      "metadata": {
        "colab_type": "code",
        "id": "MuCpqQ3R2KxZ",
        "colab": {}
      },
      "source": [
        "# import json\n",
        "# fw = open('../data/drama_desc0122.json','w')\n",
        "# # json.dump関数でファイルに書き込む\n",
        "# json.dump(simple_json ,fw,indent=4, ensure_ascii=False\n"
      ],
      "execution_count": 0,
      "outputs": []
    },
    {
      "cell_type": "code",
      "metadata": {
        "colab_type": "code",
        "id": "GJqD6A8_2Kxe",
        "colab": {}
      },
      "source": [
        ""
      ],
      "execution_count": 0,
      "outputs": []
    }
  ]
}