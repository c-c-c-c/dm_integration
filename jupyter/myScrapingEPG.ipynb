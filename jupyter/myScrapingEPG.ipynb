{
  "nbformat": 4,
  "nbformat_minor": 0,
  "metadata": {
    "colab": {
      "name": "myScrapingEPG.ipynb",
      "provenance": []
    },
    "kernelspec": {
      "display_name": "Python 3",
      "language": "python",
      "name": "python3"
    },
    "language_info": {
      "codemirror_mode": {
        "name": "ipython",
        "version": 3
      },
      "file_extension": ".py",
      "mimetype": "text/x-python",
      "name": "python",
      "nbconvert_exporter": "python",
      "pygments_lexer": "ipython3",
      "version": "3.7.3"
    }
  },
  "cells": [
    {
      "cell_type": "code",
      "metadata": {
        "colab_type": "code",
        "id": "T09KX0vQ2Kwb",
        "colab": {}
      },
      "source": [
        "import numpy as np # linear algebra\n",
        "import pandas as pd # data processing, CSV file I/O (e.g. pd.read_csv)\n",
        "# Suppress warnings \n",
        "import warnings\n",
        "warnings.filterwarnings('ignore')\n",
        "import gc\n",
        "\n",
        "# matplotlib and seaborn for plotting\n",
        "import matplotlib.pyplot as plt\n",
        "%matplotlib inline\n",
        "import seaborn as sns\n",
        "\n",
        "#追記\n",
        "import json\n",
        "import datetime\n",
        "import math\n",
        "\n",
        "from urllib import request\n",
        "from bs4 import BeautifulSoup\n",
        "import urllib.request\n",
        "import requests\n",
        "import re\n",
        "\n",
        "#importじゃないけど、個人的には省略されて良いことがあまりないので・・\n",
        "pd.set_option('display.max_columns', 500)\n",
        "pd.set_option('display.max_rows', 1000)"
      ],
      "execution_count": 0,
      "outputs": []
    },
    {
      "cell_type": "code",
      "metadata": {
        "colab_type": "code",
        "id": "HZ8w7ke32Kwq",
        "colab": {}
      },
      "source": [
        "# df_vr = pd.read_csv(\"../data/viewing_rating.csv\", encoding='cp932')"
      ],
      "execution_count": 0,
      "outputs": []
    },
    {
      "cell_type": "code",
      "metadata": {
        "colab_type": "code",
        "id": "KZndHPzH4vWQ",
        "colab": {}
      },
      "source": [
        ""
      ],
      "execution_count": 0,
      "outputs": []
    },
    {
      "cell_type": "code",
      "metadata": {
        "colab_type": "code",
        "id": "RoWRLjvz4wUD",
        "colab": {}
      },
      "source": [
        "def makeUrl (tmp_date) :\n",
        "    \n",
        "    tmp_url = 'http://timetable.yanbe.net/html/13/'+ str(tmp_date.year)+\"/\" + str(tmp_date.strftime(\"%m\"))  + '/' + str(tmp_date.strftime(\"%d\")) +'_1.html'\n",
        "    return tmp_url\n",
        "    "
      ],
      "execution_count": 0,
      "outputs": []
    },
    {
      "cell_type": "code",
      "metadata": {
        "colab_type": "code",
        "id": "xnRquv-B4woZ",
        "colab": {},
        "outputId": "773004aa-c9b5-4278-b3d7-ba8f7927595d"
      },
      "source": [
        "tmpd = datetime.date(2008,8,1)\n",
        "\n",
        "makeUrl(tmpd)"
      ],
      "execution_count": 0,
      "outputs": [
        {
          "output_type": "execute_result",
          "data": {
            "text/plain": [
              "'http://timetable.yanbe.net/html/13/2008/08/01_1.html'"
            ]
          },
          "metadata": {
            "tags": []
          },
          "execution_count": 49
        }
      ]
    },
    {
      "cell_type": "code",
      "metadata": {
        "colab_type": "code",
        "id": "ohRpwRz14w8y",
        "colab": {}
      },
      "source": [
        ""
      ],
      "execution_count": 0,
      "outputs": []
    },
    {
      "cell_type": "code",
      "metadata": {
        "colab_type": "code",
        "id": "vATFVxlf2KxG",
        "colab": {}
      },
      "source": [
        "# URLごとにスクレイピングを行う\n",
        "def scraping(url, drama_title):\n",
        "    \n",
        "    tmp_drama_desc_dict = {}\n",
        "    \n",
        "    #ページに複数ある対象部分を取得する\n",
        "    html = request.urlopen(url)\n",
        "    soup = BeautifulSoup(html, fromEncoding=\"utf-8\")\n",
        "    for title in soup.find_all(class_=\"program_title\"):\n",
        "    # print (title.contents[0])\n",
        "        pattern = r\".*\"+drama_title\n",
        "#         import pdb; pdb.set_trace()\n",
        "        matchTitle = re.findall(pattern, str(title))\n",
        "\n",
        "        if matchTitle : \n",
        "            # urlを取得\n",
        "            url = re.findall('href=\"(.+?)\"', matchTitle[0])\n",
        "            print(url)\n",
        "            \n",
        "            \n",
        "    return tmp_drama_desc_dict"
      ],
      "execution_count": 0,
      "outputs": []
    },
    {
      "cell_type": "code",
      "metadata": {
        "colab_type": "code",
        "id": "UNKoOjUN2KxN",
        "outputId": "cf707fcb-c5da-413a-c807-08803040bf39",
        "colab": {
          "base_uri": "https://localhost:8080/",
          "height": 328
        }
      },
      "source": [
        "#scraping(\"http://www.tvdrama-db.com/drama_info/p/id-55112\")\n",
        "scraping(\"http://timetable.yanbe.net/html/13/2016/02/15_1.html?13\",\"いつかこの\" )\n",
        "scraping(\"http://timetable.yanbe.net/html/13/2016/02/15_1.html?13\",\"Oha\" )\n"
      ],
      "execution_count": 0,
      "outputs": [
        {
          "output_type": "stream",
          "text": [
            "['http://timetable.yanbe.net/pdv.cgi?d=20160215&amp;p=13&amp;v=1&amp;c=109101056201602152100']\n",
            "['http://timetable.yanbe.net/pdv.cgi?d=20160215&amp;p=13&amp;v=1&amp;c=104101040201602150400']\n",
            "['http://timetable.yanbe.net/pdv.cgi?d=20160215&amp;p=13&amp;v=1&amp;c=104101040201602160400']\n"
          ],
          "name": "stdout"
        },
        {
          "output_type": "execute_result",
          "data": {
            "text/plain": [
              "{}"
            ]
          },
          "metadata": {
            "tags": []
          },
          "execution_count": 21
        }
      ]
    },
    {
      "cell_type": "code",
      "metadata": {
        "colab_type": "code",
        "id": "qof0o_Jt2KxU",
        "outputId": "dfbd10a1-c23f-4fed-dacc-9a5baae06904",
        "colab": {}
      },
      "source": [
        "###########\n",
        "# 実行本体\n",
        "#\n",
        "drama_desc_dict = {}\n",
        "\n",
        "conf_years = range(2008,2020)\n",
        "conf_start_month = [1,4,7,10]\n",
        "tmp_date = datetime.date(2008,1,1)\n",
        "\n",
        "# breakpoint()\n",
        "print(tmp_date)\n",
        "# breakpoint()\n",
        "\n",
        "# for tmp_did in range(30000, 67000):\n",
        "# for tmp_did in range(60000, 60100):\n",
        "    \n",
        "#     tmp_url = \"http://www.tvdrama-db.com/drama_info/p/id-\" + str(tmp_did)\n",
        "#     print (tmp_url)\n",
        "#     tmp_drama_desc_dict = scraping(tmp_url)\n",
        "# #     drama_desc_dict.update(tmp_drama_desc_dict)\n",
        "\n",
        "# import pprint\n",
        "# pprint.pprint(drama_desc_dict)\n"
      ],
      "execution_count": 0,
      "outputs": [
        {
          "output_type": "stream",
          "text": [
            "--Return--\n",
            "> <ipython-input-32-c216748046ae>(11)<module>()->None\n",
            "-> breakpoint()\n",
            "(Pdb) tmp_date\n",
            "datetime.date(2008, 1, 1)\n",
            "(Pdb) q\n"
          ],
          "name": "stdout"
        },
        {
          "output_type": "error",
          "ename": "BdbQuit",
          "evalue": "",
          "traceback": [
            "\u001b[0;31m---------------------------------------------------------------------------\u001b[0m",
            "\u001b[0;31mBdbQuit\u001b[0m                                   Traceback (most recent call last)",
            "\u001b[0;32m<ipython-input-32-c216748046ae>\u001b[0m in \u001b[0;36m<module>\u001b[0;34m\u001b[0m\n\u001b[1;32m      9\u001b[0m \u001b[0mtmp_date\u001b[0m \u001b[0;34m=\u001b[0m \u001b[0mdatetime\u001b[0m\u001b[0;34m.\u001b[0m\u001b[0mdate\u001b[0m\u001b[0;34m(\u001b[0m\u001b[0;36m2008\u001b[0m\u001b[0;34m,\u001b[0m\u001b[0;36m1\u001b[0m\u001b[0;34m,\u001b[0m\u001b[0;36m1\u001b[0m\u001b[0;34m)\u001b[0m\u001b[0;34m\u001b[0m\u001b[0;34m\u001b[0m\u001b[0m\n\u001b[1;32m     10\u001b[0m \u001b[0;34m\u001b[0m\u001b[0m\n\u001b[0;32m---> 11\u001b[0;31m \u001b[0mbreakpoint\u001b[0m\u001b[0;34m(\u001b[0m\u001b[0;34m)\u001b[0m\u001b[0;34m\u001b[0m\u001b[0;34m\u001b[0m\u001b[0m\n\u001b[0m\u001b[1;32m     12\u001b[0m \u001b[0mprint\u001b[0m\u001b[0;34m(\u001b[0m\u001b[0mtmp_date\u001b[0m\u001b[0;34m)\u001b[0m\u001b[0;34m\u001b[0m\u001b[0;34m\u001b[0m\u001b[0m\n\u001b[1;32m     13\u001b[0m \u001b[0;31m# breakpoint()\u001b[0m\u001b[0;34m\u001b[0m\u001b[0;34m\u001b[0m\u001b[0;34m\u001b[0m\u001b[0m\n",
            "\u001b[0;32m~/anaconda3/lib/python3.7/bdb.py\u001b[0m in \u001b[0;36mtrace_dispatch\u001b[0;34m(self, frame, event, arg)\u001b[0m\n\u001b[1;32m     90\u001b[0m             \u001b[0;32mreturn\u001b[0m \u001b[0mself\u001b[0m\u001b[0;34m.\u001b[0m\u001b[0mdispatch_call\u001b[0m\u001b[0;34m(\u001b[0m\u001b[0mframe\u001b[0m\u001b[0;34m,\u001b[0m \u001b[0marg\u001b[0m\u001b[0;34m)\u001b[0m\u001b[0;34m\u001b[0m\u001b[0;34m\u001b[0m\u001b[0m\n\u001b[1;32m     91\u001b[0m         \u001b[0;32mif\u001b[0m \u001b[0mevent\u001b[0m \u001b[0;34m==\u001b[0m \u001b[0;34m'return'\u001b[0m\u001b[0;34m:\u001b[0m\u001b[0;34m\u001b[0m\u001b[0;34m\u001b[0m\u001b[0m\n\u001b[0;32m---> 92\u001b[0;31m             \u001b[0;32mreturn\u001b[0m \u001b[0mself\u001b[0m\u001b[0;34m.\u001b[0m\u001b[0mdispatch_return\u001b[0m\u001b[0;34m(\u001b[0m\u001b[0mframe\u001b[0m\u001b[0;34m,\u001b[0m \u001b[0marg\u001b[0m\u001b[0;34m)\u001b[0m\u001b[0;34m\u001b[0m\u001b[0;34m\u001b[0m\u001b[0m\n\u001b[0m\u001b[1;32m     93\u001b[0m         \u001b[0;32mif\u001b[0m \u001b[0mevent\u001b[0m \u001b[0;34m==\u001b[0m \u001b[0;34m'exception'\u001b[0m\u001b[0;34m:\u001b[0m\u001b[0;34m\u001b[0m\u001b[0;34m\u001b[0m\u001b[0m\n\u001b[1;32m     94\u001b[0m             \u001b[0;32mreturn\u001b[0m \u001b[0mself\u001b[0m\u001b[0;34m.\u001b[0m\u001b[0mdispatch_exception\u001b[0m\u001b[0;34m(\u001b[0m\u001b[0mframe\u001b[0m\u001b[0;34m,\u001b[0m \u001b[0marg\u001b[0m\u001b[0;34m)\u001b[0m\u001b[0;34m\u001b[0m\u001b[0;34m\u001b[0m\u001b[0m\n",
            "\u001b[0;32m~/anaconda3/lib/python3.7/bdb.py\u001b[0m in \u001b[0;36mdispatch_return\u001b[0;34m(self, frame, arg)\u001b[0m\n\u001b[1;32m    152\u001b[0m             \u001b[0;32mfinally\u001b[0m\u001b[0;34m:\u001b[0m\u001b[0;34m\u001b[0m\u001b[0;34m\u001b[0m\u001b[0m\n\u001b[1;32m    153\u001b[0m                 \u001b[0mself\u001b[0m\u001b[0;34m.\u001b[0m\u001b[0mframe_returning\u001b[0m \u001b[0;34m=\u001b[0m \u001b[0;32mNone\u001b[0m\u001b[0;34m\u001b[0m\u001b[0;34m\u001b[0m\u001b[0m\n\u001b[0;32m--> 154\u001b[0;31m             \u001b[0;32mif\u001b[0m \u001b[0mself\u001b[0m\u001b[0;34m.\u001b[0m\u001b[0mquitting\u001b[0m\u001b[0;34m:\u001b[0m \u001b[0;32mraise\u001b[0m \u001b[0mBdbQuit\u001b[0m\u001b[0;34m\u001b[0m\u001b[0;34m\u001b[0m\u001b[0m\n\u001b[0m\u001b[1;32m    155\u001b[0m             \u001b[0;31m# The user issued a 'next' or 'until' command.\u001b[0m\u001b[0;34m\u001b[0m\u001b[0;34m\u001b[0m\u001b[0;34m\u001b[0m\u001b[0m\n\u001b[1;32m    156\u001b[0m             \u001b[0;32mif\u001b[0m \u001b[0mself\u001b[0m\u001b[0;34m.\u001b[0m\u001b[0mstopframe\u001b[0m \u001b[0;32mis\u001b[0m \u001b[0mframe\u001b[0m \u001b[0;32mand\u001b[0m \u001b[0mself\u001b[0m\u001b[0;34m.\u001b[0m\u001b[0mstoplineno\u001b[0m \u001b[0;34m!=\u001b[0m \u001b[0;34m-\u001b[0m\u001b[0;36m1\u001b[0m\u001b[0;34m:\u001b[0m\u001b[0;34m\u001b[0m\u001b[0;34m\u001b[0m\u001b[0m\n",
            "\u001b[0;31mBdbQuit\u001b[0m: "
          ]
        }
      ]
    },
    {
      "cell_type": "code",
      "metadata": {
        "colab_type": "code",
        "id": "MuCpqQ3R2KxZ",
        "colab": {}
      },
      "source": [
        "import json\n",
        "fw = open('../data/drama_desc0122.json','w')\n",
        "# json.dump関数でファイルに書き込む\n",
        "json.dump(simple_json ,fw,indent=4, ensure_ascii=False)\n"
      ],
      "execution_count": 0,
      "outputs": []
    },
    {
      "cell_type": "code",
      "metadata": {
        "colab_type": "code",
        "id": "GJqD6A8_2Kxe",
        "colab": {}
      },
      "source": [
        ""
      ],
      "execution_count": 0,
      "outputs": []
    }
  ]
}