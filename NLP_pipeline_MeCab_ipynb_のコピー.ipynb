{
  "nbformat": 4,
  "nbformat_minor": 0,
  "metadata": {
    "colab": {
      "name": "NLP_pipeline_MeCab.ipynb のコピー",
      "provenance": [],
      "collapsed_sections": [
        "TYMmznRYa-9Q",
        "0zHt5kiTa-9d",
        "fUP0dONFa-9y",
        "ghxLSFzAa-98",
        "PiWBOEJ6a--J",
        "JIAl91qja--Q",
        "S88NkqlQa--Z",
        "fT-t_hBma--b",
        "zgstWu1sa--j",
        "G5fYOekxa--n",
        "CB2NQkE2a--w",
        "kh4d5bGPa--1"
      ]
    },
    "kernelspec": {
      "display_name": "Python 3",
      "language": "python",
      "name": "python3"
    },
    "language_info": {
      "codemirror_mode": {
        "name": "ipython",
        "version": 3
      },
      "file_extension": ".py",
      "mimetype": "text/x-python",
      "name": "python",
      "nbconvert_exporter": "python",
      "pygments_lexer": "ipython3",
      "version": "3.6.5"
    },
    "latex_envs": {
      "LaTeX_envs_menu_present": true,
      "autoclose": false,
      "autocomplete": true,
      "bibliofile": "biblio.bib",
      "cite_by": "apalike",
      "current_citInitial": 1,
      "eqLabelWithNumbers": true,
      "eqNumInitial": 1,
      "hotkeys": {
        "equation": "Ctrl-E",
        "itemize": "Ctrl-I"
      },
      "labels_anchors": false,
      "latex_user_defs": false,
      "report_style_numbering": false,
      "user_envs_cfg": false
    }
  },
  "cells": [
    {
      "cell_type": "markdown",
      "metadata": {
        "colab_type": "text",
        "id": "R8Oh-JGka-8_"
      },
      "source": [
        "# テキストの分類\n",
        "テキスト分類は、以下の順に行います。\n",
        "\n",
        "1. 前処理\n",
        "2. 数値表現化 (CountVectorizer, TfIdfVectorizer)\n",
        "3. 分類器を学習\n",
        "\n",
        "本ノートブックでは、Wikipedia のエントリ分類を通じて、テキスト分類器を作成します。"
      ]
    },
    {
      "cell_type": "code",
      "metadata": {
        "id": "2qkpjTGlYJdq",
        "colab_type": "code",
        "colab": {}
      },
      "source": [
        "# from google.colab import drive\n",
        "# drive.mount('/content/drive')"
      ],
      "execution_count": 0,
      "outputs": []
    },
    {
      "cell_type": "code",
      "metadata": {
        "colab_type": "code",
        "id": "AhQWkFucbIPm",
        "colab": {}
      },
      "source": [
        "!apt install aptitude\n",
        "!aptitude install mecab libmecab-dev mecab-ipadic-utf8 git make curl xz-utils file -y\n",
        "!pip install mecab-python3==0.7"
      ],
      "execution_count": 0,
      "outputs": []
    },
    {
      "cell_type": "code",
      "metadata": {
        "colab_type": "code",
        "id": "ahF2OfXfa-9B",
        "colab": {}
      },
      "source": [
        "import joblib\n",
        "import MeCab\n",
        "import numpy as np\n",
        "import pandas as pd\n",
        "import re\n",
        "\n",
        "from collections import Counter\n",
        "from sklearn.ensemble import RandomForestClassifier\n",
        "from sklearn.feature_extraction.text import CountVectorizer, TfidfVectorizer\n",
        "from sklearn.linear_model import LogisticRegression\n",
        "from sklearn.metrics import confusion_matrix, accuracy_score, classification_report\n",
        "from sklearn.svm import LinearSVC"
      ],
      "execution_count": 0,
      "outputs": []
    },
    {
      "cell_type": "markdown",
      "metadata": {
        "colab_type": "text",
        "id": "DUHMMXZRa-9E"
      },
      "source": [
        "## データの読み込み"
      ]
    },
    {
      "cell_type": "code",
      "metadata": {
        "colab_type": "code",
        "id": "YCwAqWLba-9F",
        "scrolled": true,
        "colab": {}
      },
      "source": [
        "# タブ (\\t) 区切りファイルを読み込む\n",
        "df = pd.read_csv(\"./drive/My Drive/0_インテグ作業/data/EPG_checking (1).csv\")"
      ],
      "execution_count": 0,
      "outputs": []
    },
    {
      "cell_type": "code",
      "metadata": {
        "id": "GnkQyB7YtinW",
        "colab_type": "code",
        "colab": {}
      },
      "source": [
        "df"
      ],
      "execution_count": 0,
      "outputs": []
    },
    {
      "cell_type": "code",
      "metadata": {
        "id": "CsEC9MF7ooW4",
        "colab_type": "code",
        "colab": {}
      },
      "source": [
        "mecab.parse(df[\"sharp_detail_epg\"][2])\n",
        "\n",
        "\n",
        "\n"
      ],
      "execution_count": 0,
      "outputs": []
    },
    {
      "cell_type": "code",
      "metadata": {
        "id": "h-7Gi5p0zMoP",
        "colab_type": "code",
        "colab": {}
      },
      "source": [
        "# df.iloc[1][\"sharp_detail_epg_tknz\"] = \"hoge\"\n",
        "# df.iloc[1][\"sharp_detail_epg_tknz\"] = pd.Series([\"hoge\"])\n",
        "\n",
        "df[\"sharp_detail_epg_tknz\"] = np.nan"
      ],
      "execution_count": 0,
      "outputs": []
    },
    {
      "cell_type": "code",
      "metadata": {
        "id": "4ktG2v99zsbY",
        "colab_type": "code",
        "colab": {}
      },
      "source": [
        "df"
      ],
      "execution_count": 0,
      "outputs": []
    },
    {
      "cell_type": "markdown",
      "metadata": {
        "colab_type": "text",
        "id": "olxLP4TBa-9H"
      },
      "source": [
        " "
      ]
    },
    {
      "cell_type": "code",
      "metadata": {
        "id": "cIgBCGTUcorI",
        "colab_type": "code",
        "colab": {}
      },
      "source": [
        "# mecab = MeCab.Tagger()\n",
        "\n",
        "# # text_tokenized = []\n",
        "# for i, text in enumerate( df['sharp_detail_epg']):\n",
        "#   try:\n",
        "#     tmp_node = mecab.parseToNode(text)\n",
        "#     while tmp_node:\n",
        "#       print(tmp_node.feature+\" \")\n",
        "\n",
        "#       tmp_node.next\n",
        "\n",
        "\n",
        "#     # df[\"sharp_detail_epg_tknz\"].iloc[i] = tmp_node.surface\n",
        "#     # break\n",
        "#   except:\n",
        "#     print(\"p\")\n",
        "#     pass\n",
        "#     # print(text)\n"
      ],
      "execution_count": 0,
      "outputs": []
    },
    {
      "cell_type": "code",
      "metadata": {
        "id": "87xdEUASco1x",
        "colab_type": "code",
        "outputId": "510a211f-3c7c-4ad9-8075-8bf4cd4a97d5",
        "colab": {
          "base_uri": "https://localhost:8080/",
          "height": 66
        }
      },
      "source": [
        "# df[\"sharp_text_epg_tknz\"]\n",
        "df.columns"
      ],
      "execution_count": 0,
      "outputs": [
        {
          "output_type": "execute_result",
          "data": {
            "text/plain": [
              "Index(['Unnamed: 0', 'drama_key', 'drama_title', 'sharp_title',\n",
              "       'sharp_num_cnt', 'sharp_num_epg', 'start_time', 'sharp_detail_epg'],\n",
              "      dtype='object')"
            ]
          },
          "metadata": {
            "tags": []
          },
          "execution_count": 8
        }
      ]
    },
    {
      "cell_type": "code",
      "metadata": {
        "id": "SXSE1dN0co5r",
        "colab_type": "code",
        "outputId": "a65a4d92-7e57-43a6-fd51-d803e44cb108",
        "colab": {
          "base_uri": "https://localhost:8080/",
          "height": 163
        }
      },
      "source": [
        "df.iloc[1]"
      ],
      "execution_count": 0,
      "outputs": [
        {
          "output_type": "execute_result",
          "data": {
            "text/plain": [
              "Unnamed: 0                                                          1\n",
              "drama_key                                                 1910_CX_月21\n",
              "drama_title                                                    シャーロック\n",
              "sharp_title                 番組名シャーロック【探偵×医師最強バディ始動!天才VS聖女の謎解き心理戦】　#02\n",
              "sharp_num_cnt                                                       2\n",
              "sharp_num_epg                                                 ['#02']\n",
              "start_time                                               ['21', '22']\n",
              "sharp_detail_epg    番組詳細「FIVBワールドカップバレーボール2019　男子　日本×ブラジル」延長の際、放送時...\n",
              "Name: 1, dtype: object"
            ]
          },
          "metadata": {
            "tags": []
          },
          "execution_count": 9
        }
      ]
    },
    {
      "cell_type": "code",
      "metadata": {
        "id": "ZORc5o1Pco9a",
        "colab_type": "code",
        "colab": {}
      },
      "source": [
        "vectorizer = TfidfVectorizer(token_pattern=r\"(?u)\\b\\w+\\b\")"
      ],
      "execution_count": 0,
      "outputs": []
    },
    {
      "cell_type": "code",
      "metadata": {
        "id": "WnokRMvd1fnv",
        "colab_type": "code",
        "outputId": "3e0046fc-d5fc-42bf-dae9-f90e7c049aaf",
        "colab": {
          "base_uri": "https://localhost:8080/",
          "height": 676
        }
      },
      "source": [
        "\n",
        "\n",
        "X = vectorizer.fit_transform(\n",
        "    [str(i) for i in df[\"sharp_detail_epg_tknz\"].values]\n",
        ")"
      ],
      "execution_count": 0,
      "outputs": [
        {
          "output_type": "error",
          "ename": "KeyError",
          "evalue": "ignored",
          "traceback": [
            "\u001b[0;31m---------------------------------------------------------------------------\u001b[0m",
            "\u001b[0;31mKeyError\u001b[0m                                  Traceback (most recent call last)",
            "\u001b[0;32m/usr/local/lib/python3.6/dist-packages/pandas/core/indexes/base.py\u001b[0m in \u001b[0;36mget_loc\u001b[0;34m(self, key, method, tolerance)\u001b[0m\n\u001b[1;32m   2896\u001b[0m             \u001b[0;32mtry\u001b[0m\u001b[0;34m:\u001b[0m\u001b[0;34m\u001b[0m\u001b[0;34m\u001b[0m\u001b[0m\n\u001b[0;32m-> 2897\u001b[0;31m                 \u001b[0;32mreturn\u001b[0m \u001b[0mself\u001b[0m\u001b[0;34m.\u001b[0m\u001b[0m_engine\u001b[0m\u001b[0;34m.\u001b[0m\u001b[0mget_loc\u001b[0m\u001b[0;34m(\u001b[0m\u001b[0mkey\u001b[0m\u001b[0;34m)\u001b[0m\u001b[0;34m\u001b[0m\u001b[0;34m\u001b[0m\u001b[0m\n\u001b[0m\u001b[1;32m   2898\u001b[0m             \u001b[0;32mexcept\u001b[0m \u001b[0mKeyError\u001b[0m\u001b[0;34m:\u001b[0m\u001b[0;34m\u001b[0m\u001b[0;34m\u001b[0m\u001b[0m\n",
            "\u001b[0;32mpandas/_libs/index.pyx\u001b[0m in \u001b[0;36mpandas._libs.index.IndexEngine.get_loc\u001b[0;34m()\u001b[0m\n",
            "\u001b[0;32mpandas/_libs/index.pyx\u001b[0m in \u001b[0;36mpandas._libs.index.IndexEngine.get_loc\u001b[0;34m()\u001b[0m\n",
            "\u001b[0;32mpandas/_libs/hashtable_class_helper.pxi\u001b[0m in \u001b[0;36mpandas._libs.hashtable.PyObjectHashTable.get_item\u001b[0;34m()\u001b[0m\n",
            "\u001b[0;32mpandas/_libs/hashtable_class_helper.pxi\u001b[0m in \u001b[0;36mpandas._libs.hashtable.PyObjectHashTable.get_item\u001b[0;34m()\u001b[0m\n",
            "\u001b[0;31mKeyError\u001b[0m: 'sharp_detail_epg_tknz'",
            "\nDuring handling of the above exception, another exception occurred:\n",
            "\u001b[0;31mKeyError\u001b[0m                                  Traceback (most recent call last)",
            "\u001b[0;32m<ipython-input-11-c6c5bac7fa38>\u001b[0m in \u001b[0;36m<module>\u001b[0;34m()\u001b[0m\n\u001b[1;32m      2\u001b[0m \u001b[0;34m\u001b[0m\u001b[0m\n\u001b[1;32m      3\u001b[0m X = vectorizer.fit_transform(\n\u001b[0;32m----> 4\u001b[0;31m     \u001b[0;34m[\u001b[0m\u001b[0mstr\u001b[0m\u001b[0;34m(\u001b[0m\u001b[0mi\u001b[0m\u001b[0;34m)\u001b[0m \u001b[0;32mfor\u001b[0m \u001b[0mi\u001b[0m \u001b[0;32min\u001b[0m \u001b[0mdf\u001b[0m\u001b[0;34m[\u001b[0m\u001b[0;34m\"sharp_detail_epg_tknz\"\u001b[0m\u001b[0;34m]\u001b[0m\u001b[0;34m.\u001b[0m\u001b[0mvalues\u001b[0m\u001b[0;34m]\u001b[0m\u001b[0;34m\u001b[0m\u001b[0;34m\u001b[0m\u001b[0m\n\u001b[0m\u001b[1;32m      5\u001b[0m )\n",
            "\u001b[0;32m/usr/local/lib/python3.6/dist-packages/pandas/core/frame.py\u001b[0m in \u001b[0;36m__getitem__\u001b[0;34m(self, key)\u001b[0m\n\u001b[1;32m   2993\u001b[0m             \u001b[0;32mif\u001b[0m \u001b[0mself\u001b[0m\u001b[0;34m.\u001b[0m\u001b[0mcolumns\u001b[0m\u001b[0;34m.\u001b[0m\u001b[0mnlevels\u001b[0m \u001b[0;34m>\u001b[0m \u001b[0;36m1\u001b[0m\u001b[0;34m:\u001b[0m\u001b[0;34m\u001b[0m\u001b[0;34m\u001b[0m\u001b[0m\n\u001b[1;32m   2994\u001b[0m                 \u001b[0;32mreturn\u001b[0m \u001b[0mself\u001b[0m\u001b[0;34m.\u001b[0m\u001b[0m_getitem_multilevel\u001b[0m\u001b[0;34m(\u001b[0m\u001b[0mkey\u001b[0m\u001b[0;34m)\u001b[0m\u001b[0;34m\u001b[0m\u001b[0;34m\u001b[0m\u001b[0m\n\u001b[0;32m-> 2995\u001b[0;31m             \u001b[0mindexer\u001b[0m \u001b[0;34m=\u001b[0m \u001b[0mself\u001b[0m\u001b[0;34m.\u001b[0m\u001b[0mcolumns\u001b[0m\u001b[0;34m.\u001b[0m\u001b[0mget_loc\u001b[0m\u001b[0;34m(\u001b[0m\u001b[0mkey\u001b[0m\u001b[0;34m)\u001b[0m\u001b[0;34m\u001b[0m\u001b[0;34m\u001b[0m\u001b[0m\n\u001b[0m\u001b[1;32m   2996\u001b[0m             \u001b[0;32mif\u001b[0m \u001b[0mis_integer\u001b[0m\u001b[0;34m(\u001b[0m\u001b[0mindexer\u001b[0m\u001b[0;34m)\u001b[0m\u001b[0;34m:\u001b[0m\u001b[0;34m\u001b[0m\u001b[0;34m\u001b[0m\u001b[0m\n\u001b[1;32m   2997\u001b[0m                 \u001b[0mindexer\u001b[0m \u001b[0;34m=\u001b[0m \u001b[0;34m[\u001b[0m\u001b[0mindexer\u001b[0m\u001b[0;34m]\u001b[0m\u001b[0;34m\u001b[0m\u001b[0;34m\u001b[0m\u001b[0m\n",
            "\u001b[0;32m/usr/local/lib/python3.6/dist-packages/pandas/core/indexes/base.py\u001b[0m in \u001b[0;36mget_loc\u001b[0;34m(self, key, method, tolerance)\u001b[0m\n\u001b[1;32m   2897\u001b[0m                 \u001b[0;32mreturn\u001b[0m \u001b[0mself\u001b[0m\u001b[0;34m.\u001b[0m\u001b[0m_engine\u001b[0m\u001b[0;34m.\u001b[0m\u001b[0mget_loc\u001b[0m\u001b[0;34m(\u001b[0m\u001b[0mkey\u001b[0m\u001b[0;34m)\u001b[0m\u001b[0;34m\u001b[0m\u001b[0;34m\u001b[0m\u001b[0m\n\u001b[1;32m   2898\u001b[0m             \u001b[0;32mexcept\u001b[0m \u001b[0mKeyError\u001b[0m\u001b[0;34m:\u001b[0m\u001b[0;34m\u001b[0m\u001b[0;34m\u001b[0m\u001b[0m\n\u001b[0;32m-> 2899\u001b[0;31m                 \u001b[0;32mreturn\u001b[0m \u001b[0mself\u001b[0m\u001b[0;34m.\u001b[0m\u001b[0m_engine\u001b[0m\u001b[0;34m.\u001b[0m\u001b[0mget_loc\u001b[0m\u001b[0;34m(\u001b[0m\u001b[0mself\u001b[0m\u001b[0;34m.\u001b[0m\u001b[0m_maybe_cast_indexer\u001b[0m\u001b[0;34m(\u001b[0m\u001b[0mkey\u001b[0m\u001b[0;34m)\u001b[0m\u001b[0;34m)\u001b[0m\u001b[0;34m\u001b[0m\u001b[0;34m\u001b[0m\u001b[0m\n\u001b[0m\u001b[1;32m   2900\u001b[0m         \u001b[0mindexer\u001b[0m \u001b[0;34m=\u001b[0m \u001b[0mself\u001b[0m\u001b[0;34m.\u001b[0m\u001b[0mget_indexer\u001b[0m\u001b[0;34m(\u001b[0m\u001b[0;34m[\u001b[0m\u001b[0mkey\u001b[0m\u001b[0;34m]\u001b[0m\u001b[0;34m,\u001b[0m \u001b[0mmethod\u001b[0m\u001b[0;34m=\u001b[0m\u001b[0mmethod\u001b[0m\u001b[0;34m,\u001b[0m \u001b[0mtolerance\u001b[0m\u001b[0;34m=\u001b[0m\u001b[0mtolerance\u001b[0m\u001b[0;34m)\u001b[0m\u001b[0;34m\u001b[0m\u001b[0;34m\u001b[0m\u001b[0m\n\u001b[1;32m   2901\u001b[0m         \u001b[0;32mif\u001b[0m \u001b[0mindexer\u001b[0m\u001b[0;34m.\u001b[0m\u001b[0mndim\u001b[0m \u001b[0;34m>\u001b[0m \u001b[0;36m1\u001b[0m \u001b[0;32mor\u001b[0m \u001b[0mindexer\u001b[0m\u001b[0;34m.\u001b[0m\u001b[0msize\u001b[0m \u001b[0;34m>\u001b[0m \u001b[0;36m1\u001b[0m\u001b[0;34m:\u001b[0m\u001b[0;34m\u001b[0m\u001b[0;34m\u001b[0m\u001b[0m\n",
            "\u001b[0;32mpandas/_libs/index.pyx\u001b[0m in \u001b[0;36mpandas._libs.index.IndexEngine.get_loc\u001b[0;34m()\u001b[0m\n",
            "\u001b[0;32mpandas/_libs/index.pyx\u001b[0m in \u001b[0;36mpandas._libs.index.IndexEngine.get_loc\u001b[0;34m()\u001b[0m\n",
            "\u001b[0;32mpandas/_libs/hashtable_class_helper.pxi\u001b[0m in \u001b[0;36mpandas._libs.hashtable.PyObjectHashTable.get_item\u001b[0;34m()\u001b[0m\n",
            "\u001b[0;32mpandas/_libs/hashtable_class_helper.pxi\u001b[0m in \u001b[0;36mpandas._libs.hashtable.PyObjectHashTable.get_item\u001b[0;34m()\u001b[0m\n",
            "\u001b[0;31mKeyError\u001b[0m: 'sharp_detail_epg_tknz'"
          ]
        }
      ]
    },
    {
      "cell_type": "code",
      "metadata": {
        "id": "FGenqOWt1gPR",
        "colab_type": "code",
        "colab": {}
      },
      "source": [
        "X"
      ],
      "execution_count": 0,
      "outputs": []
    },
    {
      "cell_type": "code",
      "metadata": {
        "id": "62bm14bW1gqp",
        "colab_type": "code",
        "colab": {}
      },
      "source": [
        "pd.DataFrame(X.toarray(), columns=[ x[0] for x in sorted(vectorizer.vocabulary_.items(), key=lambda x: x[1]) ])"
      ],
      "execution_count": 0,
      "outputs": []
    },
    {
      "cell_type": "code",
      "metadata": {
        "id": "4mJ-vAUP1hDw",
        "colab_type": "code",
        "colab": {}
      },
      "source": [
        "vectorizer.idf_"
      ],
      "execution_count": 0,
      "outputs": []
    },
    {
      "cell_type": "code",
      "metadata": {
        "id": "7sAUTzMn4s7J",
        "colab_type": "code",
        "colab": {}
      },
      "source": [
        ""
      ],
      "execution_count": 0,
      "outputs": []
    },
    {
      "cell_type": "code",
      "metadata": {
        "id": "U_nlKH7M4tTj",
        "colab_type": "code",
        "colab": {}
      },
      "source": [
        ""
      ],
      "execution_count": 0,
      "outputs": []
    },
    {
      "cell_type": "code",
      "metadata": {
        "id": "ZIR0JSNS4tsT",
        "colab_type": "code",
        "colab": {}
      },
      "source": [
        ""
      ],
      "execution_count": 0,
      "outputs": []
    },
    {
      "cell_type": "markdown",
      "metadata": {
        "colab_type": "text",
        "id": "7ePCMx4Da-9I"
      },
      "source": [
        "## 形態素解析\n",
        "---\n",
        "\n",
        "MeCab を利用した形態素解析と、簡単な処理の例を示します。"
      ]
    },
    {
      "cell_type": "markdown",
      "metadata": {
        "colab_type": "text",
        "id": "TYMmznRYa-9Q"
      },
      "source": [
        "### -O wakati オプション無しでの解析\n",
        "品詞を使うなど、高度な解析が必要な場合は -O wakati オプションを外し、`parseToNode` 等を用いて解析します (文字列処理に慣れたら、結果を一括で出力する `parse` を使い、文字列処理により結果を取り出すこともできます)。"
      ]
    },
    {
      "cell_type": "code",
      "metadata": {
        "colab_type": "code",
        "id": "HGNC4m77a-9R",
        "outputId": "12e09347-5cd3-4b59-b2ad-d92ceaecea29",
        "colab": {
          "base_uri": "https://localhost:8080/",
          "height": 35
        }
      },
      "source": [
        "mecab = MeCab.Tagger()\n",
        "\n",
        "# バグ回避用\n",
        "mecab.parse(\"\")"
      ],
      "execution_count": 0,
      "outputs": [
        {
          "output_type": "execute_result",
          "data": {
            "text/plain": [
              "'EOS\\n'"
            ]
          },
          "metadata": {
            "tags": []
          },
          "execution_count": 10
        }
      ]
    },
    {
      "cell_type": "code",
      "metadata": {
        "colab_type": "code",
        "id": "wrgI-Vtma-9T",
        "outputId": "476b2339-036a-4fb0-e49c-40fcab9c6617",
        "colab": {
          "base_uri": "https://localhost:8080/",
          "height": 126
        }
      },
      "source": [
        "# node が None になるまで、node.next を辿り続ける\n",
        "node = mecab.parseToNode(\"本日も晴天なり\")\n",
        "\n",
        "while node:\n",
        "    # 単語は surface、品詞は feature に格納されている\n",
        "    print(node.surface + \"\\t\" + node.feature)\n",
        "    node = node.next"
      ],
      "execution_count": 0,
      "outputs": [
        {
          "output_type": "stream",
          "text": [
            "\tBOS/EOS,*,*,*,*,*,*,*,*\n",
            "本日\t名詞,副詞可能,*,*,*,*,本日,ホンジツ,ホンジツ\n",
            "も\t助詞,係助詞,*,*,*,*,も,モ,モ\n",
            "晴天\t名詞,一般,*,*,*,*,晴天,セイテン,セイテン\n",
            "なり\t助動詞,*,*,*,文語・ナリ,基本形,なり,ナリ,ナリ\n",
            "\tBOS/EOS,*,*,*,*,*,*,*,*\n"
          ],
          "name": "stdout"
        }
      ]
    },
    {
      "cell_type": "markdown",
      "metadata": {
        "colab_type": "text",
        "id": "h8ROkDtHa-9U"
      },
      "source": [
        "↑ BOS, EOS は、それぞれ文頭・文末を意味する特別な品詞です (無視できます)。"
      ]
    },
    {
      "cell_type": "code",
      "metadata": {
        "colab_type": "code",
        "id": "j4RzEqSXa-9V",
        "outputId": "7322dd5c-5b72-4c9b-c716-25f65db31909",
        "scrolled": true,
        "colab": {
          "base_uri": "https://localhost:8080/",
          "height": 1000
        }
      },
      "source": [
        "# BOS/EOS, 助詞, 助動詞を除外する例\n",
        "node = mecab.parseToNode(df.text.iloc[0])\n",
        "while node:\n",
        "    if not node.feature.startswith(\"BOS/EOS\") and not node.feature.startswith(\"助詞\") and not node.feature.startswith(\"助動詞\"):\n",
        "        print(node.surface + \"\\t\" + node.feature)\n",
        "    node = node.next"
      ],
      "execution_count": 0,
      "outputs": [
        {
          "output_type": "stream",
          "text": [
            "くし\t名詞,一般,*,*,*,*,くし,クシ,クシ\n",
            "型\t名詞,接尾,一般,*,*,*,型,ガタ,ガタ\n",
            "関数\t名詞,一般,*,*,*,*,関数,カンスウ,カンスー\n",
            "くし\t名詞,一般,*,*,*,*,くし,クシ,クシ\n",
            "型\t名詞,接尾,一般,*,*,*,型,ガタ,ガタ\n",
            "関数\t名詞,一般,*,*,*,*,関数,カンスウ,カンスー\n",
            "（\t記号,括弧開,*,*,*,*,（,（,（\n",
            "くし\t名詞,一般,*,*,*,*,くし,クシ,クシ\n",
            "たかん\t動詞,自立,*,*,五段・ラ行,体言接続特殊,たかる,タカン,タカン\n",
            "すう\t動詞,自立,*,*,五段・ワ行促音便,基本形,すう,スウ,スウ\n",
            "、\t記号,読点,*,*,*,*,、,、,、\n",
            "）\t記号,括弧閉,*,*,*,*,）,）,）\n",
            "、\t記号,読点,*,*,*,*,、,、,、\n",
            "デルタ\t名詞,一般,*,*,*,*,デルタ,デルタ,デルタ\n",
            "関数\t名詞,一般,*,*,*,*,関数,カンスウ,カンスー\n",
            "一定\t名詞,サ変接続,*,*,*,*,一定,イッテイ,イッテイ\n",
            "間隔\t名詞,一般,*,*,*,*,間隔,カンカク,カンカク\n",
            "並べ\t動詞,自立,*,*,一段,連用形,並べる,ナラベ,ナラベ\n",
            "超\t接頭詞,名詞接続,*,*,*,*,超,チョウ,チョー\n",
            "関数\t名詞,一般,*,*,*,*,関数,カンスウ,カンスー\n",
            "。\t記号,句点,*,*,*,*,。,。,。\n",
            "英語\t名詞,一般,*,*,*,*,英語,エイゴ,エイゴ\n",
            "コム\t名詞,固有名詞,組織,*,*,*,コム,コム,コム\n",
            "関数\t名詞,一般,*,*,*,*,関数,カンスウ,カンスー\n",
            "。\t記号,句点,*,*,*,*,。,。,。\n",
            "概\t名詞,サ変接続,*,*,*,*,概,ガイ,ガイ\n",
            "形\t名詞,接尾,一般,*,*,*,形,ガタ,ガタ\n",
            "キリル\t名詞,一般,*,*,*,*,*\n",
            "文字\t名詞,一般,*,*,*,*,文字,モジ,モジ\n",
            "「\t記号,括弧開,*,*,*,*,「,「,「\n",
            "Ш\t名詞,固有名詞,組織,*,*,*,*\n",
            "」\t記号,括弧閉,*,*,*,*,」,」,」\n",
            "たとえ\t動詞,自立,*,*,一段,連用形,たとえる,タトエ,タトエ\n",
            "シャー\t名詞,固有名詞,人名,一般,*,*,シャー,シャー,シャー\n",
            "関数\t名詞,一般,*,*,*,*,関数,カンスウ,カンスー\n",
            "（\t記号,括弧開,*,*,*,*,（,（,（\n",
            "しゃ\t動詞,接尾,*,*,五段・サ行,仮定縮約１,す,シャ,シャ\n",
            "ー\t名詞,一般,*,*,*,*,*\n",
            "かんす\t動詞,自立,*,*,サ変・−スル,文語基本形,かんする,カンス,カンス\n",
            "、\t記号,読点,*,*,*,*,、,、,、\n",
            "）\t記号,括弧閉,*,*,*,*,）,）,）\n",
            "呼ば\t動詞,自立,*,*,五段・バ行,未然形,呼ぶ,ヨバ,ヨバ\n",
            "れる\t動詞,接尾,*,*,一段,基本形,れる,レル,レル\n",
            "。\t記号,句点,*,*,*,*,。,。,。\n",
            "また\t副詞,助詞類接続,*,*,*,*,また,マタ,マタ\n",
            "わかり\t動詞,自立,*,*,五段・ラ行,連用形,わかる,ワカリ,ワカリ\n",
            "やすく\t形容詞,非自立,*,*,形容詞・アウオ段,連用テ接続,やすい,ヤスク,ヤスク\n",
            "周期\t名詞,一般,*,*,*,*,周期,シュウキ,シューキ\n",
            "的\t名詞,接尾,形容動詞語幹,*,*,*,的,テキ,テキ\n",
            "デルタ\t名詞,一般,*,*,*,*,デルタ,デルタ,デルタ\n",
            "関数\t名詞,一般,*,*,*,*,関数,カンスウ,カンスー\n",
            "呼ば\t動詞,自立,*,*,五段・バ行,未然形,呼ぶ,ヨバ,ヨバ\n",
            "れる\t動詞,接尾,*,*,一段,基本形,れる,レル,レル\n",
            "。\t記号,句点,*,*,*,*,。,。,。\n",
            "連続\t名詞,サ変接続,*,*,*,*,連続,レンゾク,レンゾク\n",
            "関数\t名詞,一般,*,*,*,*,関数,カンスウ,カンスー\n",
            "積\t名詞,一般,*,*,*,*,積,セキ,セキ\n",
            "取る\t動詞,自立,*,*,五段・ラ行,基本形,取る,トル,トル\n",
            "こと\t名詞,非自立,一般,*,*,*,こと,コト,コト\n",
            "、\t記号,読点,*,*,*,*,、,、,、\n",
            "一定\t名詞,サ変接続,*,*,*,*,一定,イッテイ,イッテイ\n",
            "間隔\t名詞,一般,*,*,*,*,間隔,カンカク,カンカク\n",
            "離散\t名詞,サ変接続,*,*,*,*,離散,リサン,リサン\n",
            "化\t名詞,接尾,サ変接続,*,*,*,化,カ,カ\n",
            "（\t記号,括弧開,*,*,*,*,（,（,（\n",
            "サンプリング\t名詞,サ変接続,*,*,*,*,サンプリング,サンプリング,サンプリング\n",
            "）\t記号,括弧閉,*,*,*,*,）,）,）\n",
            "し\t動詞,自立,*,*,サ変・スル,連用形,する,シ,シ\n",
            "数値\t名詞,一般,*,*,*,*,数値,スウチ,スーチ\n",
            "列\t名詞,一般,*,*,*,*,列,レツ,レツ\n",
            "得る\t動詞,自立,*,*,一段,基本形,得る,エル,エル\n",
            "こと\t名詞,非自立,一般,*,*,*,こと,コト,コト\n",
            "できる\t動詞,自立,*,*,一段,基本形,できる,デキル,デキル\n",
            "。\t記号,句点,*,*,*,*,。,。,。\n",
            "この\t連体詞,*,*,*,*,*,この,コノ,コノ\n",
            "ため\t名詞,非自立,副詞可能,*,*,*,ため,タメ,タメ\n",
            "理想\t名詞,一般,*,*,*,*,理想,リソウ,リソー\n",
            "的\t名詞,接尾,形容動詞語幹,*,*,*,的,テキ,テキ\n",
            "サンプラー\t名詞,一般,*,*,*,*,*\n",
            "モデル\t名詞,一般,*,*,*,*,モデル,モデル,モデル\n",
            "扱わ\t動詞,自立,*,*,五段・ワ行促音便,未然形,扱う,アツカワ,アツカワ\n",
            "れる\t動詞,接尾,*,*,一段,基本形,れる,レル,レル\n",
            "。\t記号,句点,*,*,*,*,。,。,。\n",
            "成り立つ\t動詞,自立,*,*,五段・タ行,基本形,成り立つ,ナリタツ,ナリタツ\n",
            "。\t記号,句点,*,*,*,*,。,。,。\n"
          ],
          "name": "stdout"
        }
      ]
    },
    {
      "cell_type": "code",
      "metadata": {
        "colab_type": "code",
        "id": "-OboegEwa-9W",
        "colab": {}
      },
      "source": [
        "mecab = MeCab.Tagger(\"-O wakati\")\n",
        "\n",
        "text_tokenized = []\n",
        "for text in df['text']:\n",
        "    text_tokenized.append(mecab.parse(text))\n",
        "    \n",
        "df['text_tokenized'] = text_tokenized"
      ],
      "execution_count": 0,
      "outputs": []
    },
    {
      "cell_type": "code",
      "metadata": {
        "colab_type": "code",
        "id": "Gjv8iS7fa-9Y",
        "outputId": "cd972b7b-0a7e-474b-d921-f9796634987b",
        "colab": {
          "base_uri": "https://localhost:8080/",
          "height": 55
        }
      },
      "source": [
        ""
      ],
      "execution_count": 0,
      "outputs": [
        {
          "output_type": "execute_result",
          "data": {
            "text/plain": [
              "'くし 型 関数 くし 型 関数 （ くし が たかん すう 、 ） は 、 デルタ 関数 を 一定 の 間隔 で 並べ た 超 関数 。 英語 から コム 関数 とも 。 概 形 を キリル 文字 の 「 Ш 」 に たとえ て シャー 関数 （ しゃ ー かんす う 、 ） と も 呼ば れる 。 また わかり やすく 周期 的 デルタ 関数 と も 呼ば れる 。 連続 関数 と の 積 を 取る こと により 、 一定 間隔 で 離散 化 （ サンプリング ） し た 数値 列 を 得る こと が できる 。 この ため 理想 的 な サンプラー の モデル として も 扱わ れる 。 が 成り立つ 。 \\n'"
            ]
          },
          "metadata": {
            "tags": []
          },
          "execution_count": 14
        }
      ]
    },
    {
      "cell_type": "code",
      "metadata": {
        "id": "HVLcwm875xd4",
        "colab_type": "code",
        "colab": {}
      },
      "source": [
        ""
      ],
      "execution_count": 0,
      "outputs": []
    },
    {
      "cell_type": "code",
      "metadata": {
        "id": "UD6sJOAN5w35",
        "colab_type": "code",
        "colab": {}
      },
      "source": [
        ""
      ],
      "execution_count": 0,
      "outputs": []
    },
    {
      "cell_type": "code",
      "metadata": {
        "colab_type": "code",
        "id": "VRf30KbQa-9a",
        "outputId": "8e183053-1f7f-4e18-fca4-4b90ac68fa2b",
        "colab": {
          "base_uri": "https://localhost:8080/",
          "height": 744
        }
      },
      "source": [
        "df"
      ],
      "execution_count": 0,
      "outputs": [
        {
          "output_type": "execute_result",
          "data": {
            "text/html": [
              "<div>\n",
              "<style scoped>\n",
              "    .dataframe tbody tr th:only-of-type {\n",
              "        vertical-align: middle;\n",
              "    }\n",
              "\n",
              "    .dataframe tbody tr th {\n",
              "        vertical-align: top;\n",
              "    }\n",
              "\n",
              "    .dataframe thead th {\n",
              "        text-align: right;\n",
              "    }\n",
              "</style>\n",
              "<table border=\"1\" class=\"dataframe\">\n",
              "  <thead>\n",
              "    <tr style=\"text-align: right;\">\n",
              "      <th></th>\n",
              "      <th>category</th>\n",
              "      <th>text</th>\n",
              "      <th>text_tokenized</th>\n",
              "    </tr>\n",
              "  </thead>\n",
              "  <tbody>\n",
              "    <tr>\n",
              "      <th>0</th>\n",
              "      <td>mathematics</td>\n",
              "      <td>くし型関数 くし型関数（くしがたかんすう、）は、デルタ関数を一定の間隔で並べた超関数。英語か...</td>\n",
              "      <td>くし 型 関数 くし 型 関数 （ くし が たかん すう 、 ） は 、 デルタ 関数 を...</td>\n",
              "    </tr>\n",
              "    <tr>\n",
              "      <th>1</th>\n",
              "      <td>mathematics</td>\n",
              "      <td>フィッティングの補題 数学において、の補題 (FITTING LEMMA) は、\"M\" が直...</td>\n",
              "      <td>フィッティング の 補題 数学 において 、 の 補題 ( FITTING LEMMA ) ...</td>\n",
              "    </tr>\n",
              "    <tr>\n",
              "      <th>2</th>\n",
              "      <td>philosophy</td>\n",
              "      <td>理性 理性（りせい、→→→）とは、人間に本来的に備わっているとされる知的能力の一つである。言...</td>\n",
              "      <td>理性 理性 （ り せい 、 → → → ） と は 、 人間 に 本来 的 に 備わっ て...</td>\n",
              "    </tr>\n",
              "    <tr>\n",
              "      <th>3</th>\n",
              "      <td>mathematics</td>\n",
              "      <td>位相線型環 数学の函数解析学における位相線型環（いそうせんけいかん、; 位相多元環、位相代数...</td>\n",
              "      <td>位相 線型 環 数学 の 函数 解析 学 における 位相 線型 環 （ い そう せん けい...</td>\n",
              "    </tr>\n",
              "    <tr>\n",
              "      <th>4</th>\n",
              "      <td>mathematics</td>\n",
              "      <td>調和解析 数学の一分野としての調和解析（ちょうわかいせき、）は、関数や信号を基本波の重ね合わ...</td>\n",
              "      <td>調和 解析 数学 の 一 分野 として の 調和 解析 （ ちょう わかい せき 、 ） は...</td>\n",
              "    </tr>\n",
              "    <tr>\n",
              "      <th>...</th>\n",
              "      <td>...</td>\n",
              "      <td>...</td>\n",
              "      <td>...</td>\n",
              "    </tr>\n",
              "    <tr>\n",
              "      <th>995</th>\n",
              "      <td>mathematics</td>\n",
              "      <td>射影線型群 数学における射影線型群（しゃえいせんけいぐん、）あるいは射影一般線型群（しゃえい...</td>\n",
              "      <td>射影 線型 群 数学 における 射影 線型 群 （ し ゃえいせんけいぐん 、 ） あるいは...</td>\n",
              "    </tr>\n",
              "    <tr>\n",
              "      <th>996</th>\n",
              "      <td>mathematics</td>\n",
              "      <td>円柱 (数学) 数学において円柱（えんちゅう、）とは二次曲面（三次元空間内の曲面）の一種で、...</td>\n",
              "      <td>円柱 ( 数学 ) 数学 において 円柱 （ えん ち ゅう 、 ） と は 二 次 曲面 ...</td>\n",
              "    </tr>\n",
              "    <tr>\n",
              "      <th>997</th>\n",
              "      <td>mathematics</td>\n",
              "      <td>エルミート作用素 エルミート作用素（エルミートさようそ、\"HERMITIAN OPERATO...</td>\n",
              "      <td>エルミート 作用素 エルミート 作用素 （ エルミート さ よう そ 、 \" HERMITI...</td>\n",
              "    </tr>\n",
              "    <tr>\n",
              "      <th>998</th>\n",
              "      <td>philosophy</td>\n",
              "      <td>パスカルの賭け パスカルの賭け（パスカルのかけ、, ）は、フランスの哲学者ブレーズ・パスカル...</td>\n",
              "      <td>パスカル の 賭け パスカル の 賭け （ パスカル の かけ 、 , ） は 、 フランス...</td>\n",
              "    </tr>\n",
              "    <tr>\n",
              "      <th>999</th>\n",
              "      <td>mathematics</td>\n",
              "      <td>ハーディ＝リトルウッドの極大函数 数学において、ハーディ＝リトルウッドの極大函数（ハーディ＝...</td>\n",
              "      <td>ハーディ ＝ リトル ウッド の 極大 函数 数学 において 、 ハーディ ＝ リトル ウッ...</td>\n",
              "    </tr>\n",
              "  </tbody>\n",
              "</table>\n",
              "<p>1000 rows × 3 columns</p>\n",
              "</div>"
            ],
            "text/plain": [
              "        category  ...                                     text_tokenized\n",
              "0    mathematics  ...  くし 型 関数 くし 型 関数 （ くし が たかん すう 、 ） は 、 デルタ 関数 を...\n",
              "1    mathematics  ...  フィッティング の 補題 数学 において 、 の 補題 ( FITTING LEMMA ) ...\n",
              "2     philosophy  ...  理性 理性 （ り せい 、 → → → ） と は 、 人間 に 本来 的 に 備わっ て...\n",
              "3    mathematics  ...  位相 線型 環 数学 の 函数 解析 学 における 位相 線型 環 （ い そう せん けい...\n",
              "4    mathematics  ...  調和 解析 数学 の 一 分野 として の 調和 解析 （ ちょう わかい せき 、 ） は...\n",
              "..           ...  ...                                                ...\n",
              "995  mathematics  ...  射影 線型 群 数学 における 射影 線型 群 （ し ゃえいせんけいぐん 、 ） あるいは...\n",
              "996  mathematics  ...  円柱 ( 数学 ) 数学 において 円柱 （ えん ち ゅう 、 ） と は 二 次 曲面 ...\n",
              "997  mathematics  ...  エルミート 作用素 エルミート 作用素 （ エルミート さ よう そ 、 \" HERMITI...\n",
              "998   philosophy  ...  パスカル の 賭け パスカル の 賭け （ パスカル の かけ 、 , ） は 、 フランス...\n",
              "999  mathematics  ...  ハーディ ＝ リトル ウッド の 極大 函数 数学 において 、 ハーディ ＝ リトル ウッ...\n",
              "\n",
              "[1000 rows x 3 columns]"
            ]
          },
          "metadata": {
            "tags": []
          },
          "execution_count": 15
        }
      ]
    },
    {
      "cell_type": "markdown",
      "metadata": {
        "colab_type": "text",
        "id": "6u3u4q6La-9c"
      },
      "source": [
        " "
      ]
    },
    {
      "cell_type": "markdown",
      "metadata": {
        "colab_type": "text",
        "id": "J8Zsuq8qa-9c"
      },
      "source": [
        "## 単語文書行列の作成\n",
        "---\n",
        "単語文書行列は、`CountVectorizer` を用いることで作成できます。"
      ]
    },
    {
      "cell_type": "markdown",
      "metadata": {
        "colab_type": "text",
        "id": "0zHt5kiTa-9d"
      },
      "source": [
        "### 簡単な例"
      ]
    },
    {
      "cell_type": "code",
      "metadata": {
        "colab_type": "code",
        "id": "dyu1v9H2a-9d",
        "colab": {}
      },
      "source": [
        "# token_pattern は、デフォルトだと1文字の単語を除外するので、除外しないように設定する\n",
        "vectorizer = CountVectorizer(token_pattern=r\"(?u)\\b\\w+\\b\")"
      ],
      "execution_count": 0,
      "outputs": []
    },
    {
      "cell_type": "code",
      "metadata": {
        "colab_type": "code",
        "id": "WAiBw8v8a-9f",
        "colab": {}
      },
      "source": [
        "# スペース区切りの文書をリストで与える\n",
        "X = vectorizer.fit_transform([\n",
        "    \"This is a pen\",\n",
        "    \"I am not a pen\",\n",
        "    \"Hello\"\n",
        "])"
      ],
      "execution_count": 0,
      "outputs": []
    },
    {
      "cell_type": "code",
      "metadata": {
        "colab_type": "code",
        "id": "9bv0sFfna-9h",
        "outputId": "82474bbc-9f04-4e0f-8be8-50276c2bffd1",
        "colab": {
          "base_uri": "https://localhost:8080/",
          "height": 53
        }
      },
      "source": [
        "X"
      ],
      "execution_count": 0,
      "outputs": [
        {
          "output_type": "execute_result",
          "data": {
            "text/plain": [
              "<3x8 sparse matrix of type '<class 'numpy.int64'>'\n",
              "\twith 10 stored elements in Compressed Sparse Row format>"
            ]
          },
          "metadata": {
            "tags": []
          },
          "execution_count": 18
        }
      ]
    },
    {
      "cell_type": "markdown",
      "metadata": {
        "colab_type": "text",
        "id": "gps06ps_a-9j"
      },
      "source": [
        "単語文書行列は、`scipy.sparse` の SparseMatrix (疎行列) の形で帰ります。疎行列形式は、単語文書行列のように疎なデータ (行列内の多くの値が 0) に対し、メモリ効率良く格納できると言う利点を持ちます。\n",
        "\n",
        "デバッグ用途等で密行列に変換したい場合は、toarray() を呼び出します。"
      ]
    },
    {
      "cell_type": "code",
      "metadata": {
        "colab_type": "code",
        "id": "EEus63WOa-9j",
        "outputId": "3e8ea55b-5fae-4fad-dd9c-43a697b9fe27",
        "colab": {
          "base_uri": "https://localhost:8080/",
          "height": 71
        }
      },
      "source": [
        "X.toarray()"
      ],
      "execution_count": 0,
      "outputs": [
        {
          "output_type": "execute_result",
          "data": {
            "text/plain": [
              "array([[1, 0, 0, 0, 1, 0, 1, 1],\n",
              "       [1, 1, 0, 1, 0, 1, 1, 0],\n",
              "       [0, 0, 1, 0, 0, 0, 0, 0]])"
            ]
          },
          "metadata": {
            "tags": []
          },
          "execution_count": 19
        }
      ]
    },
    {
      "cell_type": "code",
      "metadata": {
        "colab_type": "code",
        "id": "B_7wgWRsa-9l",
        "outputId": "bce08bcb-9971-4981-e28d-ce4373c38239",
        "colab": {
          "base_uri": "https://localhost:8080/",
          "height": 140
        }
      },
      "source": [
        "# ※これは、演習用に単語文書行列を DataFrame に変換して見やすくしてみるためのコードで、覚える必要はありません\n",
        "pd.DataFrame(X.toarray(), columns=[ x[0] for x in sorted(vectorizer.vocabulary_.items(), key=lambda x: x[1]) ])"
      ],
      "execution_count": 0,
      "outputs": [
        {
          "output_type": "execute_result",
          "data": {
            "text/html": [
              "<div>\n",
              "<style scoped>\n",
              "    .dataframe tbody tr th:only-of-type {\n",
              "        vertical-align: middle;\n",
              "    }\n",
              "\n",
              "    .dataframe tbody tr th {\n",
              "        vertical-align: top;\n",
              "    }\n",
              "\n",
              "    .dataframe thead th {\n",
              "        text-align: right;\n",
              "    }\n",
              "</style>\n",
              "<table border=\"1\" class=\"dataframe\">\n",
              "  <thead>\n",
              "    <tr style=\"text-align: right;\">\n",
              "      <th></th>\n",
              "      <th>a</th>\n",
              "      <th>am</th>\n",
              "      <th>hello</th>\n",
              "      <th>i</th>\n",
              "      <th>is</th>\n",
              "      <th>not</th>\n",
              "      <th>pen</th>\n",
              "      <th>this</th>\n",
              "    </tr>\n",
              "  </thead>\n",
              "  <tbody>\n",
              "    <tr>\n",
              "      <th>0</th>\n",
              "      <td>1</td>\n",
              "      <td>0</td>\n",
              "      <td>0</td>\n",
              "      <td>0</td>\n",
              "      <td>1</td>\n",
              "      <td>0</td>\n",
              "      <td>1</td>\n",
              "      <td>1</td>\n",
              "    </tr>\n",
              "    <tr>\n",
              "      <th>1</th>\n",
              "      <td>1</td>\n",
              "      <td>1</td>\n",
              "      <td>0</td>\n",
              "      <td>1</td>\n",
              "      <td>0</td>\n",
              "      <td>1</td>\n",
              "      <td>1</td>\n",
              "      <td>0</td>\n",
              "    </tr>\n",
              "    <tr>\n",
              "      <th>2</th>\n",
              "      <td>0</td>\n",
              "      <td>0</td>\n",
              "      <td>1</td>\n",
              "      <td>0</td>\n",
              "      <td>0</td>\n",
              "      <td>0</td>\n",
              "      <td>0</td>\n",
              "      <td>0</td>\n",
              "    </tr>\n",
              "  </tbody>\n",
              "</table>\n",
              "</div>"
            ],
            "text/plain": [
              "   a  am  hello  i  is  not  pen  this\n",
              "0  1   0      0  0   1    0    1     1\n",
              "1  1   1      0  1   0    1    1     0\n",
              "2  0   0      1  0   0    0    0     0"
            ]
          },
          "metadata": {
            "tags": []
          },
          "execution_count": 20
        }
      ]
    },
    {
      "cell_type": "markdown",
      "metadata": {
        "colab_type": "text",
        "id": "qdvArrtWa-9o"
      },
      "source": [
        "CountVectorizer が生成する単語文書行列では、行 (横) 方向が1つの文書を表し、それぞれの列に単語の出現回数が格納されます (※単語文書行列と言った場合、列方向が文書を表す場合もあるので、他の文献を読む際は注意が必要です)。"
      ]
    },
    {
      "cell_type": "markdown",
      "metadata": {
        "colab_type": "text",
        "id": "4ilxvlhda-9o"
      },
      "source": [
        "どの列がどの単語と対応しているかを知るためには、vectorizer の vocabulary_ を参照します。"
      ]
    },
    {
      "cell_type": "code",
      "metadata": {
        "colab_type": "code",
        "id": "UQZkYzg_a-9p",
        "outputId": "a988cdd2-930f-4726-843a-b732f5aa756c",
        "colab": {
          "base_uri": "https://localhost:8080/",
          "height": 35
        }
      },
      "source": [
        "vectorizer.vocabulary_"
      ],
      "execution_count": 0,
      "outputs": [
        {
          "output_type": "execute_result",
          "data": {
            "text/plain": [
              "{'a': 0, 'am': 1, 'hello': 2, 'i': 3, 'is': 4, 'not': 5, 'pen': 6, 'this': 7}"
            ]
          },
          "metadata": {
            "tags": []
          },
          "execution_count": 21
        }
      ]
    },
    {
      "cell_type": "markdown",
      "metadata": {
        "colab_type": "text",
        "id": "y-XZW_Vqa-9u"
      },
      "source": [
        "新しい文書に対しては、transform で変換します。\n",
        "\n",
        "なお、fit\\_transform の際に出てこなかった単語 (= vocabulary_ にない単語) については、行列内に登場しません。"
      ]
    },
    {
      "cell_type": "code",
      "metadata": {
        "colab_type": "code",
        "id": "spozm9-pa-9w",
        "outputId": "98d444f9-12c9-4da4-f449-a4b5b272e0d9",
        "colab": {
          "base_uri": "https://localhost:8080/",
          "height": 35
        }
      },
      "source": [
        "# transform も、リスト形式で与える必要があるので注意\n",
        "X_new = vectorizer.transform([\n",
        "    \"Hello I like this pen\"\n",
        "])\n",
        "X_new.toarray()"
      ],
      "execution_count": 0,
      "outputs": [
        {
          "output_type": "execute_result",
          "data": {
            "text/plain": [
              "array([[0, 0, 1, 1, 0, 0, 1, 1]])"
            ]
          },
          "metadata": {
            "tags": []
          },
          "execution_count": 22
        }
      ]
    },
    {
      "cell_type": "markdown",
      "metadata": {
        "colab_type": "text",
        "id": "fUP0dONFa-9y"
      },
      "source": [
        "### 日本語データに適用\n",
        "前処理済みの日本語データに適用してみます。DataFrame にスペース区切りのテキストを準備している場合、DataFrame の列を参照させたものをそのまま与えることができます。"
      ]
    },
    {
      "cell_type": "code",
      "metadata": {
        "colab_type": "code",
        "id": "3XTvS-VKa-9z",
        "colab": {}
      },
      "source": [
        "vectorizer = CountVectorizer(token_pattern=r\"(?u)\\b\\w+\\b\")\n",
        "X = vectorizer.fit_transform(df[\"text_tokenized\"])"
      ],
      "execution_count": 0,
      "outputs": []
    },
    {
      "cell_type": "code",
      "metadata": {
        "colab_type": "code",
        "id": "syuYu8hga-91",
        "outputId": "f2f053a3-7db0-4bc4-d160-6f75eb7746ba",
        "colab": {
          "base_uri": "https://localhost:8080/"
        }
      },
      "source": [
        "X"
      ],
      "execution_count": 0,
      "outputs": [
        {
          "output_type": "execute_result",
          "data": {
            "text/plain": [
              "<1000x30875 sparse matrix of type '<class 'numpy.int64'>'\n",
              "\twith 227179 stored elements in Compressed Sparse Row format>"
            ]
          },
          "metadata": {
            "tags": []
          },
          "execution_count": 24
        }
      ]
    },
    {
      "cell_type": "code",
      "metadata": {
        "colab_type": "code",
        "id": "oVIavU0Xa-92",
        "outputId": "00ba7571-e275-4b10-e54d-32855ddaf09d",
        "colab": {
          "base_uri": "https://localhost:8080/"
        }
      },
      "source": [
        "X[0].toarray()"
      ],
      "execution_count": 0,
      "outputs": [
        {
          "output_type": "execute_result",
          "data": {
            "text/plain": [
              "array([[0, 0, 0, ..., 0, 0, 0]])"
            ]
          },
          "metadata": {
            "tags": []
          },
          "execution_count": 25
        }
      ]
    },
    {
      "cell_type": "markdown",
      "metadata": {
        "colab_type": "text",
        "id": "dvNzlApVa-95"
      },
      "source": [
        "↑この規模の単語文書行列になると、行列のサイズ (文書数x単語数) と比較し、値が入っている場所をほとんど無いことが分かります。"
      ]
    },
    {
      "cell_type": "code",
      "metadata": {
        "colab_type": "code",
        "id": "fqtfcBd6a-96",
        "outputId": "76e943b3-bb82-432f-bc58-eea602970d82",
        "colab": {
          "base_uri": "https://localhost:8080/"
        }
      },
      "source": [
        "vectorizer.vocabulary_"
      ],
      "execution_count": 0,
      "outputs": [
        {
          "output_type": "execute_result",
          "data": {
            "text/plain": [
              "{'くし': 6144,\n",
              " '型': 18802,\n",
              " '関数': 30013,\n",
              " 'が': 6073,\n",
              " 'たかん': 6613,\n",
              " 'すう': 6449,\n",
              " 'は': 7144,\n",
              " 'デルタ': 11461,\n",
              " 'を': 7843,\n",
              " '一定': 14905,\n",
              " 'の': 7116,\n",
              " '間隔': 29996,\n",
              " 'で': 6838,\n",
              " '並べ': 15334,\n",
              " 'た': 6594,\n",
              " '超': 28848,\n",
              " '英語': 27409,\n",
              " 'から': 6053,\n",
              " 'コム': 9836,\n",
              " 'とも': 6910,\n",
              " '概': 23519,\n",
              " '形': 20825,\n",
              " 'キリル': 9357,\n",
              " '文字': 22466,\n",
              " 'ш': 5583,\n",
              " 'に': 7056,\n",
              " 'たとえ': 6650,\n",
              " 'て': 6823,\n",
              " 'シャー': 10264,\n",
              " 'しゃ': 6402,\n",
              " 'ー': 14873,\n",
              " 'かんす': 6067,\n",
              " 'う': 5825,\n",
              " 'と': 6857,\n",
              " 'も': 7506,\n",
              " '呼ば': 18361,\n",
              " 'れる': 7803,\n",
              " 'また': 7397,\n",
              " 'わかり': 7819,\n",
              " 'やすく': 7590,\n",
              " '周期': 18345,\n",
              " '的': 25447,\n",
              " '連続': 29323,\n",
              " '積': 26104,\n",
              " '取る': 17934,\n",
              " 'こと': 6253,\n",
              " 'により': 7084,\n",
              " '離散': 30265,\n",
              " '化': 17502,\n",
              " 'サンプリング': 10106,\n",
              " 'し': 6355,\n",
              " '数値': 22415,\n",
              " '列': 17088,\n",
              " '得る': 20972,\n",
              " 'できる': 6844,\n",
              " 'この': 6262,\n",
              " 'ため': 6668,\n",
              " '理想': 25055,\n",
              " 'な': 6973,\n",
              " 'サンプラー': 10105,\n",
              " 'モデル': 13912,\n",
              " 'として': 6884,\n",
              " '扱わ': 21703,\n",
              " '成り立つ': 21501,\n",
              " 'フィッティング': 12522,\n",
              " '補題': 27791,\n",
              " '数学': 22421,\n",
              " 'において': 7060,\n",
              " 'fitting': 2581,\n",
              " 'lemma': 3436,\n",
              " 'm': 3558,\n",
              " '直': 25531,\n",
              " '既': 22639,\n",
              " '約': 26442,\n",
              " '加': 17342,\n",
              " '群': 26891,\n",
              " '長': 29871,\n",
              " 'さ': 6295,\n",
              " '有限': 23075,\n",
              " 'あれ': 5712,\n",
              " 'ば': 7207,\n",
              " 'すべて': 6475,\n",
              " '自己': 27220,\n",
              " '準': 24515,\n",
              " '同型': 18185,\n",
              " '全': 16644,\n",
              " '単': 17633,\n",
              " '射': 19962,\n",
              " 'ある': 5708,\n",
              " 'かさ': 6012,\n",
              " 'なく': 6998,\n",
              " '冪': 16889,\n",
              " '零': 30290,\n",
              " 'という': 6860,\n",
              " '代数': 15855,\n",
              " '学': 19547,\n",
              " '定理': 19701,\n",
              " '環': 25075,\n",
              " '局所': 20115,\n",
              " '従う': 20953,\n",
              " 'なら': 7032,\n",
              " 'formula': 2607,\n",
              " '_': 1223,\n",
              " '1': 36,\n",
              " 'について': 7074,\n",
              " '仮定': 15888,\n",
              " 'より': 7765,\n",
              " '2': 690,\n",
              " '等式': 26290,\n",
              " 'それぞれ': 6571,\n",
              " '3': 804,\n",
              " '理性': 25054,\n",
              " 'り': 7785,\n",
              " 'せい': 6499,\n",
              " '人間': 15735,\n",
              " '本来': 23178,\n",
              " '備わっ': 16425,\n",
              " 'いる': 5810,\n",
              " '知的': 25736,\n",
              " '能力': 27103,\n",
              " '一つ': 14876,\n",
              " '言い換えれ': 28125,\n",
              " '推論': 22092,\n",
              " 'reasoning': 4442,\n",
              " '世界': 15295,\n",
              " 'とき': 6874,\n",
              " '意味': 21349,\n",
              " '統べる': 26640,\n",
              " '原理': 17736,\n",
              " '知性': 25733,\n",
              " '区別': 17542,\n",
              " 'ギリシア': 9412,\n",
              " '哲学': 18439,\n",
              " 'における': 7061,\n",
              " 'ヌース': 11794,\n",
              " '知': 25708,\n",
              " '叡智': 17994,\n",
              " 'ディアノイア': 11350,\n",
              " 'dia': 2209,\n",
              " '経由': 26584,\n",
              " 'noia': 3909,\n",
              " '間接': 29989,\n",
              " '基本': 18856,\n",
              " '由来': 25201,\n",
              " 'する': 6483,\n",
              " '古典': 18012,\n",
              " '語': 28361,\n",
              " '論理': 28502,\n",
              " '表す': 27694,\n",
              " 'ともに': 6918,\n",
              " 'ロゴス': 14612,\n",
              " 'あっ': 5661,\n",
              " '元来': 16505,\n",
              " '比': 23893,\n",
              " 'や': 7578,\n",
              " '割合': 17289,\n",
              " '有し': 23033,\n",
              " 'い': 5720,\n",
              " 'そこ': 6544,\n",
              " 'ラテン語': 14167,\n",
              " '同じ': 18172,\n",
              " '持つ': 21892,\n",
              " '日常': 22656,\n",
              " 'ratio': 4425,\n",
              " '訳語': 28231,\n",
              " 'れ': 7798,\n",
              " 'ロマンス': 14662,\n",
              " 'その': 6554,\n",
              " '流れ': 24238,\n",
              " '引き継い': 20692,\n",
              " 'だ': 6683,\n",
              " 'セネカ': 10877,\n",
              " 'よれ': 7768,\n",
              " 'これ': 6272,\n",
              " 'キケロ': 9311,\n",
              " 'による': 7085,\n",
              " 'いう': 5725,\n",
              " 'こうした': 6221,\n",
              " '西欧': 27840,\n",
              " '伝統': 15972,\n",
              " '類比': 30541,\n",
              " '方法': 22606,\n",
              " '秩序': 26034,\n",
              " '考える': 26954,\n",
              " '傾向': 16449,\n",
              " 'もたらし': 7523,\n",
              " '比例': 23900,\n",
              " '理解': 25063,\n",
              " '時': 22798,\n",
              " '一番': 14951,\n",
              " '典型': 16783,\n",
              " '三角': 15047,\n",
              " '測量': 24472,\n",
              " '特定': 24883,\n",
              " '時刻': 22809,\n",
              " '影': 20855,\n",
              " '棒': 23442,\n",
              " '関係': 30005,\n",
              " '直接': 25554,\n",
              " '計れ': 28162,\n",
              " 'ない': 6974,\n",
              " 'ピラミッド': 12453,\n",
              " '高': 30692,\n",
              " '基': 18844,\n",
              " 'よう': 7743,\n",
              " '場合': 18902,\n",
              " '現代': 25024,\n",
              " '英': 27393,\n",
              " '米': 26375,\n",
              " '圏': 18713,\n",
              " '分析': 17024,\n",
              " 'しばしば': 6388,\n",
              " '見': 27881,\n",
              " 'られる': 7783,\n",
              " '悟性': 21261,\n",
              " '狭義': 24953,\n",
              " '混同': 24382,\n",
              " '用法': 25186,\n",
              " '広義': 20546,\n",
              " '使わ': 16155,\n",
              " 'スコラ哲学': 10634,\n",
              " '以来': 15881,\n",
              " '西洋': 27841,\n",
              " '論証': 28506,\n",
              " '対象': 19939,\n",
              " '把握': 21720,\n",
              " 'understanding': 5256,\n",
              " '普通': 22837,\n",
              " '明晰': 22748,\n",
              " '性': 21185,\n",
              " '妥当': 19443,\n",
              " '前者': 17233,\n",
              " '直観': 25564,\n",
              " '後者': 20936,\n",
              " '属する': 20150,\n",
              " 'ショーペンハウアー': 10370,\n",
              " 'よる': 7767,\n",
              " '抽象': 21820,\n",
              " '認識': 28344,\n",
              " '概念': 23522,\n",
              " '扱う': 21699,\n",
              " 'あり': 5700,\n",
              " 'それ': 6569,\n",
              " '以上': 15875,\n",
              " 'でも': 6853,\n",
              " '以下': 15876,\n",
              " '知覚': 25741,\n",
              " 'つまり': 6802,\n",
              " '視聴覚': 28013,\n",
              " '触覚': 28115,\n",
              " '現れ': 25020,\n",
              " '感覚': 21412,\n",
              " '脳': 27137,\n",
              " 'によって': 7083,\n",
              " '時間': 22821,\n",
              " '空間': 26148,\n",
              " '因果': 18621,\n",
              " '形式': 20833,\n",
              " 'もっ': 7531,\n",
              " '現象': 25038,\n",
              " '客観': 19774,\n",
              " '要素': 27866,\n",
              " '抽出': 21819,\n",
              " '同士': 18186,\n",
              " '組み合わせ': 26553,\n",
              " '思考': 21169,\n",
              " '行う': 27637,\n",
              " '簡単': 26361,\n",
              " '言え': 28139,\n",
              " '文章': 22491,\n",
              " '読み書き': 28425,\n",
              " '活動': 24222,\n",
              " '全て': 16647,\n",
              " '頭': 30485,\n",
              " 'なか': 6985,\n",
              " '作業': 16125,\n",
              " '行わ': 27656,\n",
              " 'しかし': 6358,\n",
              " '結局': 26611,\n",
              " '表れる': 27698,\n",
              " '直接的': 25555,\n",
              " 'いわば': 5819,\n",
              " '水源': 23981,\n",
              " '汲ん': 24037,\n",
              " 'き': 6088,\n",
              " 'もの': 7551,\n",
              " '常に': 20397,\n",
              " '対応': 19915,\n",
              " 'なけれ': 7005,\n",
              " '机上': 23203,\n",
              " '空論': 26145,\n",
              " '無意味': 24707,\n",
              " 'ゆえに': 7669,\n",
              " '単に': 17635,\n",
              " '反省': 17837,\n",
              " 'reflection': 4464,\n",
              " '彼': 20877,\n",
              " '無能': 24737,\n",
              " '教授': 22366,\n",
              " '達': 29454,\n",
              " '言う': 28137,\n",
              " '自体': 27198,\n",
              " '超越': 28856,\n",
              " '存在': 19526,\n",
              " '神': 25906,\n",
              " '予感': 15537,\n",
              " '偉大': 16362,\n",
              " '持た': 21873,\n",
              " 'ず': 6488,\n",
              " 'のみ': 7138,\n",
              " '以外': 15879,\n",
              " '動物': 17438,\n",
              " '現在': 25026,\n",
              " '目': 25497,\n",
              " '前': 17206,\n",
              " '行動': 27660,\n",
              " '限定': 30084,\n",
              " 'ツバメ': 11249,\n",
              " '営巣': 18533,\n",
              " 'クモの巣': 9465,\n",
              " '作る': 16111,\n",
              " '一見': 14974,\n",
              " '基い': 18845,\n",
              " 'か': 5967,\n",
              " '見える': 27888,\n",
              " '本能': 23188,\n",
              " '発生': 25401,\n",
              " '点': 24658,\n",
              " '我々': 21525,\n",
              " '子': 19500,\n",
              " '作り': 16099,\n",
              " '相手': 25592,\n",
              " '選ぶ': 29537,\n",
              " '際': 30171,\n",
              " '説明': 28409,\n",
              " '関わり': 30002,\n",
              " '無い': 24673,\n",
              " '健康': 16391,\n",
              " '優良': 16494,\n",
              " '子孫': 19505,\n",
              " '残せる': 23836,\n",
              " '無意識': 24708,\n",
              " '大': 19118,\n",
              " '部分': 29610,\n",
              " '動かさ': 17423,\n",
              " '一方': 14928,\n",
              " '計画': 28166,\n",
              " '出来る': 16969,\n",
              " 'とらわれ': 6922,\n",
              " '未来': 23139,\n",
              " '過去': 29418,\n",
              " 'といった': 6862,\n",
              " '表象': 27715,\n",
              " '属し': 20148,\n",
              " 'すぎ': 6454,\n",
              " '考慮': 26965,\n",
              " '入れる': 16612,\n",
              " '刑法': 17086,\n",
              " 'など': 7022,\n",
              " '法': 24125,\n",
              " '罰則': 26855,\n",
              " '効果': 17407,\n",
              " '持ち': 21874,\n",
              " 'える': 5878,\n",
              " '情動': 21314,\n",
              " '動機': 17437,\n",
              " '比較': 23905,\n",
              " '衡量': 27687,\n",
              " '結果': 26615,\n",
              " '行為': 27665,\n",
              " '選択': 29548,\n",
              " '可能': 18051,\n",
              " '刑罰': 17087,\n",
              " '期待': 23110,\n",
              " '作ら': 16098,\n",
              " '断じて': 22525,\n",
              " '報復': 18896,\n",
              " '感情': 21407,\n",
              " '満たす': 24496,\n",
              " '罪人': 26833,\n",
              " '道徳': 29444,\n",
              " '矯正': 25764,\n",
              " '不可能': 15193,\n",
              " '目的': 25513,\n",
              " 'そして': 6547,\n",
              " 'カント': 9209,\n",
              " '主張': 15447,\n",
              " '法則': 24132,\n",
              " '指定': 21906,\n",
              " '実践': 19767,\n",
              " '全く': 16646,\n",
              " '否定': 18297,\n",
              " '経験': 26589,\n",
              " '高尚': 30715,\n",
              " '明らか': 22742,\n",
              " '大抵': 19179,\n",
              " '他者': 15806,\n",
              " '受ける': 17952,\n",
              " 'へ': 7321,\n",
              " '恐怖': 21215,\n",
              " '恐れ': 21211,\n",
              " '渋々': 24417,\n",
              " '自ら': 27193,\n",
              " '欲求': 23670,\n",
              " '抑え': 21722,\n",
              " '実際': 19768,\n",
              " '憂慮': 21449,\n",
              " 'そう': 6532,\n",
              " '寄与': 19841,\n",
              " 'むしろ': 7476,\n",
              " '使い方': 16147,\n",
              " '如何': 19427,\n",
              " '例えば': 16165,\n",
              " '大量': 19239,\n",
              " '虐殺': 27587,\n",
              " '極めて': 23493,\n",
              " '大きな': 19126,\n",
              " '悪': 21275,\n",
              " '実行': 19763,\n",
              " '歴史': 23802,\n",
              " '例': 16163,\n",
              " '実証': 19765,\n",
              " '論外': 28494,\n",
              " '最も': 22977,\n",
              " '野蛮': 29748,\n",
              " '宗教': 19662,\n",
              " 'ユダヤ': 14025,\n",
              " '教': 22343,\n",
              " '教義': 22380,\n",
              " '基づく': 18849,\n",
              " '妄想': 19435,\n",
              " 'あるいは': 5709,\n",
              " '高次': 30729,\n",
              " '認知': 28342,\n",
              " 'senses': 4674,\n",
              " 'feelings': 2538,\n",
              " 'emotions': 2397,\n",
              " '情念': 21318,\n",
              " 'passions': 4084,\n",
              " '等': 26277,\n",
              " '対比的': 19923,\n",
              " '用い': 25177,\n",
              " 'られ': 7781,\n",
              " '純粋': 26467,\n",
              " '精神': 26410,\n",
              " '肉体': 27046,\n",
              " '作用': 16128,\n",
              " '考え': 26952,\n",
              " '非常': 30374,\n",
              " '騒がしい': 30671,\n",
              " '場所': 18904,\n",
              " 'ひどく': 7248,\n",
              " '悲しん': 21304,\n",
              " '判断': 17123,\n",
              " '下す': 15122,\n",
              " '困難': 18630,\n",
              " 'なる': 7042,\n",
              " '近年': 29093,\n",
              " '経済': 26582,\n",
              " '実験': 19769,\n",
              " '心理': 21050,\n",
              " '熟慮': 24793,\n",
              " 'かならずしも': 6036,\n",
              " '合理': 18151,\n",
              " '引き起こさ': 20699,\n",
              " '示し': 25854,\n",
              " 'バイアス': 12034,\n",
              " '機能': 23617,\n",
              " '主義': 15458,\n",
              " '学派': 19571,\n",
              " 'ヒト': 12331,\n",
              " '生存': 25134,\n",
              " '結びつい': 26593,\n",
              " '同様': 18210,\n",
              " '進化': 29348,\n",
              " '必ずしも': 21060,\n",
              " '不合理': 15198,\n",
              " '特に': 24880,\n",
              " '祖先': 25890,\n",
              " '時代': 22805,\n",
              " '環境': 25076,\n",
              " '相互': 25573,\n",
              " 'または': 7401,\n",
              " '並列': 15338,\n",
              " '意思': 21356,\n",
              " '決定': 24049,\n",
              " '関わっ': 30000,\n",
              " '示唆': 25859,\n",
              " '二': 15575,\n",
              " '重': 29690,\n",
              " '過程': 29428,\n",
              " '理論': 25064,\n",
              " 'プロセス': 13004,\n",
              " 'スタノヴィッチ': 10651,\n",
              " 'まで': 7414,\n",
              " '提案': 22121,\n",
              " '類似': 30537,\n",
              " '列挙': 17092,\n",
              " 'それら': 6582,\n",
              " '詳細': 28321,\n",
              " '異なる': 25291,\n",
              " '次': 23637,\n",
              " '共通': 16753,\n",
              " '二つ': 15576,\n",
              " 'システム': 10193,\n",
              " 'どの': 6963,\n",
              " 'これら': 6274,\n",
              " '提唱': 22119,\n",
              " '者': 26970,\n",
              " '間': 29983,\n",
              " '合意': 18145,\n",
              " '状況': 24921,\n",
              " '内容': 16805,\n",
              " 'ことなる': 6254,\n",
              " '限界': 30086,\n",
              " '議論': 28606,\n",
              " '二律背反': 15586,\n",
              " '指摘': 21910,\n",
              " 'アロー': 8214,\n",
              " '囚人': 18572,\n",
              " 'ジレンマ': 10571,\n",
              " 'ハイゼンベルク': 11885,\n",
              " '不': 15165,\n",
              " '確定': 25833,\n",
              " '科学': 26014,\n",
              " 'ゲーデル': 9777,\n",
              " '不完全性': 15208,\n",
              " '知識': 25742,\n",
              " '挙げ': 21924,\n",
              " '位相': 16011,\n",
              " '線型': 26738,\n",
              " '函数': 16990,\n",
              " '解析': 28096,\n",
              " 'せん': 6521,\n",
              " 'けいかん': 6190,\n",
              " '多元': 19075,\n",
              " '体': 16041,\n",
              " '実数': 19742,\n",
              " '複素数': 27813,\n",
              " '上': 15055,\n",
              " 'もと': 7539,\n",
              " '演算': 24562,\n",
              " '加法': 17356,\n",
              " '乗法': 15498,\n",
              " '著しい': 27510,\n",
              " '代表': 15866,\n",
              " 'よく': 7749,\n",
              " '知ら': 25711,\n",
              " 'バナッハ': 12099,\n",
              " '単位': 17638,\n",
              " 'かつ': 6029,\n",
              " '結合': 26608,\n",
              " '成す': 21494,\n",
              " '構造': 23541,\n",
              " '閉': 29922,\n",
              " '自然': 27235,\n",
              " '集合': 30226,\n",
              " '生成': 25142,\n",
              " '含む': 18302,\n",
              " '最小': 22996,\n",
              " 'すなわち': 6471,\n",
              " '交わり': 15645,\n",
              " '直線': 25562,\n",
              " '内': 16796,\n",
              " '有界': 23065,\n",
              " '区間': 17544,\n",
              " 'に対して': 7091,\n",
              " 'ストーン': 10732,\n",
              " 'ヴァイアシュトラス': 14761,\n",
              " '用いれ': 25180,\n",
              " '恒等': 21223,\n",
              " '一元': 14886,\n",
              " 'わかる': 7821,\n",
              " 'に対し': 7090,\n",
              " '写像': 16879,\n",
              " 'さらに': 6337,\n",
              " '双': 17805,\n",
              " '定義': 19705,\n",
              " 'もっとも': 7534,\n",
              " 'ノルム': 11856,\n",
              " 'に対する': 7092,\n",
              " '広汎': 20543,\n",
              " '既に': 22640,\n",
              " '構築': 23540,\n",
              " '中でも': 15344,\n",
              " '重要': 29728,\n",
              " 'c': 1725,\n",
              " 'フォンノイマン': 12626,\n",
              " '調和': 28467,\n",
              " 'フレシェ': 12708,\n",
              " '劣': 17371,\n",
              " 'に関する': 7101,\n",
              " '半': 17570,\n",
              " '保証': 16252,\n",
              " '可分': 18043,\n",
              " 'コンパクトハウスドルフ': 9910,\n",
              " '複素': 27812,\n",
              " '全体': 16649,\n",
              " '定める': 19683,\n",
              " '入れ': 16610,\n",
              " 'ただし': 6635,\n",
              " 'コンパクト': 9909,\n",
              " '各': 18106,\n",
              " '内部': 16818,\n",
              " '含ま': 18300,\n",
              " '合併': 18141,\n",
              " '被覆': 27738,\n",
              " '収束': 17857,\n",
              " '入る': 16609,\n",
              " '書か': 22913,\n",
              " '開': 29951,\n",
              " '正則': 23709,\n",
              " '付け': 15817,\n",
              " 'したがって': 6373,\n",
              " '多': 19067,\n",
              " '変数': 19009,\n",
              " '論': 28486,\n",
              " '役': 20860,\n",
              " '果たす': 23320,\n",
              " '凸': 16932,\n",
              " 'local': 3507,\n",
              " 'multiplicative': 3799,\n",
              " 'convex': 2017,\n",
              " 'algebra': 1314,\n",
              " 'lmc': 3505,\n",
              " '族': 22636,\n",
              " '備え': 16423,\n",
              " '完備': 19647,\n",
              " '調べる': 28463,\n",
              " 'でき': 6840,\n",
              " 'アレンス': 8211,\n",
              " 'マイケル': 13458,\n",
              " '一般': 14968,\n",
              " 'よい': 7742,\n",
              " '係数': 16210,\n",
              " '有理': 23061,\n",
              " '多項式': 19106,\n",
              " '商': 18458,\n",
              " '考えよ': 26953,\n",
              " '数': 22408,\n",
              " '元': 16499,\n",
              " '解釈': 28106,\n",
              " 'ローラン': 14700,\n",
              " '展開': 20145,\n",
              " '注意': 24177,\n",
              " 'いま': 5799,\n",
              " '定めれ': 19684,\n",
              " '示せる': 25857,\n",
              " '性質': 21197,\n",
              " 'クラス': 9480,\n",
              " '基礎': 18864,\n",
              " '自動的': 27208,\n",
              " '自動': 27207,\n",
              " 'automatic': 1488,\n",
              " 'continuity': 2009,\n",
              " '未': 23130,\n",
              " '解決': 28097,\n",
              " '問題': 18485,\n",
              " 'ほか': 7347,\n",
              " '要請': 27869,\n",
              " '更': 22907,\n",
              " 'q': 4343,\n",
              " '可逆': 18054,\n",
              " '必要': 21066,\n",
              " '十': 17555,\n",
              " '分': 16992,\n",
              " '条件': 23226,\n",
              " '空': 26125,\n",
              " 'スペクトル': 10768,\n",
              " '任意': 15913,\n",
              " '反転': 17840,\n",
              " '先': 16529,\n",
              " '他方': 15804,\n",
              " '一': 14874,\n",
              " '分野': 17038,\n",
              " 'ちょう': 6721,\n",
              " 'わかい': 7816,\n",
              " 'せき': 6507,\n",
              " '信号': 16268,\n",
              " '波': 24161,\n",
              " '重ね': 29700,\n",
              " '合わせ': 18135,\n",
              " '表現': 27706,\n",
              " '関わる': 30003,\n",
              " 'フーリエ': 12744,\n",
              " '級数': 26475,\n",
              " '変換': 19007,\n",
              " '及び': 17787,\n",
              " '研究': 25787,\n",
              " '19': 583,\n",
              " '世紀': 15300,\n",
              " '20': 691,\n",
              " 'を通じて': 7848,\n",
              " '主題': 15465,\n",
              " '広く': 20524,\n",
              " '応用': 21103,\n",
              " '処理': 16926,\n",
              " '量子力学': 29751,\n",
              " '神経': 25934,\n",
              " '多岐': 19081,\n",
              " 'わたる': 7837,\n",
              " 'harmonic': 2892,\n",
              " '物理': 24869,\n",
              " '固有値': 18664,\n",
              " '来': 23233,\n",
              " '楽器': 23515,\n",
              " '弦': 20727,\n",
              " '振動': 21957,\n",
              " '周波数': 18346,\n",
              " '他': 15799,\n",
              " '整数': 22437,\n",
              " '倍': 16323,\n",
              " 'なっ': 7018,\n",
              " '意図': 21352,\n",
              " '原義': 17742,\n",
              " '超え': 28849,\n",
              " 'ヒルベルト': 12351,\n",
              " '文脈': 22493,\n",
              " '有効': 23043,\n",
              " '調べ': 28462,\n",
              " 'おり': 5947,\n",
              " '結ぶ': 26603,\n",
              " '中盤': 15396,\n",
              " '源': 24511,\n",
              " '発する': 25377,\n",
              " '中心': 15377,\n",
              " 'ハウスドルフ': 11912,\n",
              " '種々': 26078,\n",
              " '可': 18042,\n",
              " '換局': 22143,\n",
              " '所': 21589,\n",
              " 'ポントリャーギン': 13444,\n",
              " '双対': 17808,\n",
              " '主': 15430,\n",
              " '特徴': 24884,\n",
              " '十分': 17559,\n",
              " 'および': 5944,\n",
              " 'もっと': 7533,\n",
              " 'たとえば': 6651,\n",
              " '非': 30364,\n",
              " '換': 22130,\n",
              " 'リー': 14401,\n",
              " '拡張': 21864,\n",
              " '試みる': 28274,\n",
              " 'ユニタリ': 14030,\n",
              " '近しい': 29079,\n",
              " '同値': 18179,\n",
              " '類': 30534,\n",
              " '選び出す': 29535,\n",
              " '分解': 17035,\n",
              " '得': 20969,\n",
              " '作り方': 16107,\n",
              " '有用': 23064,\n",
              " '畳み込み': 25311,\n",
              " 'ごと': 6288,\n",
              " '写す': 16876,\n",
              " '保ち': 16237,\n",
              " '台': 18055,\n",
              " '種': 26077,\n",
              " '導く': 19998,\n",
              " '参照': 17778,\n",
              " '未だ': 23131,\n",
              " 'ここ': 6240,\n",
              " '少なくとも': 20068,\n",
              " 'プランシュレル': 12940,\n",
              " '同等': 18220,\n",
              " '多く': 19072,\n",
              " '特殊': 24893,\n",
              " '無限': 24747,\n",
              " '次元': 23646,\n",
              " '役割': 20866,\n",
              " '被': 27729,\n",
              " '正弦': 23727,\n",
              " '和': 18391,\n",
              " '即ち': 17692,\n",
              " 'ので': 7130,\n",
              " '従来': 20965,\n",
              " '短時間': 25754,\n",
              " 'stfd': 4884,\n",
              " '優れ': 16484,\n",
              " '分解能': 17036,\n",
              " '有する': 23034,\n",
              " 'ものの': 7553,\n",
              " '同時に': 18204,\n",
              " '膨大': 27169,\n",
              " '計算': 28167,\n",
              " '量': 29749,\n",
              " '多大': 19078,\n",
              " '要する': 27855,\n",
              " '普及': 22835,\n",
              " '至っ': 27261,\n",
              " 'なかっ': 6986,\n",
              " '機': 23601,\n",
              " '性能': 21196,\n",
              " '向上': 18283,\n",
              " '実用': 19754,\n",
              " 'アルゴリズム': 8150,\n",
              " '開発': 29969,\n",
              " 'ようやく': 7745,\n",
              " 'つつ': 6777,\n",
              " 'nha': 3886,\n",
              " '窓': 26166,\n",
              " '影響': 20858,\n",
              " '受け': 17949,\n",
              " 'にくい': 7066,\n",
              " '高い': 30694,\n",
              " '比べ': 23896,\n",
              " '10': 37,\n",
              " '万': 15005,\n",
              " '100': 38,\n",
              " '億': 16473,\n",
              " '精度': 26407,\n",
              " '見込める': 27987,\n",
              " '微小': 21015,\n",
              " '変化': 19000,\n",
              " '図形': 18645,\n",
              " '一覧': 14975,\n",
              " '様々': 23544,\n",
              " '分類': 17043,\n",
              " 'まず': 7393,\n",
              " '埋め込み': 18812,\n",
              " 'ユークリッド': 14049,\n",
              " '次に': 23643,\n",
              " '球面': 25045,\n",
              " 'コッホ': 9802,\n",
              " '曲線': 22904,\n",
              " '最後': 23002,\n",
              " 'フラクタル': 12661,\n",
              " '別': 17128,\n",
              " '扱い': 21698,\n",
              " 'dim': 2234,\n",
              " '併記': 16141,\n",
              " '大きく': 19124,\n",
              " '等しい': 26280,\n",
              " '通り': 29244,\n",
              " '0': 0,\n",
              " '広がり': 20522,\n",
              " 'すれ': 6485,\n",
              " 'しか': 6357,\n",
              " '作れ': 16112,\n",
              " '吉田': 18164,\n",
              " '洋一': 24189,\n",
              " 'よし': 7750,\n",
              " 'いち': 5770,\n",
              " '1898': 580,\n",
              " '年': 20452,\n",
              " '7': 1070,\n",
              " '月': 23020,\n",
              " '11': 70,\n",
              " '日': 22647,\n",
              " '1989': 679,\n",
              " '8': 1121,\n",
              " '30': 805,\n",
              " '日本': 22663,\n",
              " '東京': 23253,\n",
              " '生まれ': 25113,\n",
              " '1923': 611,\n",
              " '帝国': 20361,\n",
              " '大学': 19162,\n",
              " '理学部': 25049,\n",
              " '学科': 19576,\n",
              " '卒業': 17595,\n",
              " '第一高等学校': 26266,\n",
              " '助教授': 17387,\n",
              " 'フランス': 12675,\n",
              " '留学': 25259,\n",
              " '経': 26574,\n",
              " '1930': 618,\n",
              " '北海道': 17524,\n",
              " '1949': 637,\n",
              " '1964': 653,\n",
              " '立教大学': 26211,\n",
              " 'のち': 7128,\n",
              " '名誉': 18262,\n",
              " '1965': 654,\n",
              " '1969': 658,\n",
              " '埼玉大学': 18869,\n",
              " '教育': 22382,\n",
              " '足跡': 28881,\n",
              " '残し': 23833,\n",
              " '人物': 15723,\n",
              " '随筆': 30159,\n",
              " '家': 19805,\n",
              " '俳人': 16306,\n",
              " '著名': 27514,\n",
              " '夏彦': 19024,\n",
              " '父': 24825,\n",
              " '赤': 28800,\n",
              " '摂': 22182,\n",
              " '也': 15513,\n",
              " '娘': 19478,\n",
              " '翻訳': 26940,\n",
              " '冬子': 16891,\n",
              " '夫': 19311,\n",
              " '戦前': 21549,\n",
              " '北大': 17515,\n",
              " '創設': 17314,\n",
              " '携わり': 22178,\n",
              " '後に': 20914,\n",
              " '努力': 17392,\n",
              " '一時期': 14935,\n",
              " 'やる': 7617,\n",
              " 'いい': 5721,\n",
              " '言わ': 28144,\n",
              " '書': 22911,\n",
              " '練習': 26773,\n",
              " '指示': 21913,\n",
              " '文': 22455,\n",
              " 'せよ': 6516,\n",
              " 'なさい': 7007,\n",
              " '命令': 18384,\n",
              " '使っ': 16154,\n",
              " '1939': 627,\n",
              " '出版': 16974,\n",
              " '発見': 25411,\n",
              " '岩波': 20208,\n",
              " '新書': 22575,\n",
              " '名': 18234,\n",
              " '有名': 23045,\n",
              " '本': 23156,\n",
              " '読み物': 28427,\n",
              " '人': 15693,\n",
              " '支持': 22241,\n",
              " '読ま': 28412,\n",
              " '全書': 16661,\n",
              " '長く': 29875,\n",
              " '細部': 26520,\n",
              " '気': 23932,\n",
              " '配っ': 29637,\n",
              " '構成': 23538,\n",
              " '後': 20911,\n",
              " '模範': 23565,\n",
              " '微分': 21013,\n",
              " '積分': 26112,\n",
              " '序説': 20557,\n",
              " '培風館': 18842,\n",
              " '丁寧': 14996,\n",
              " '解説': 28104,\n",
              " '理工': 25051,\n",
              " '系': 26428,\n",
              " '版': 24841,\n",
              " '新': 22552,\n",
              " 'シリーズ': 10384,\n",
              " '監修': 25490,\n",
              " '担当': 21827,\n",
              " 'テキスト': 11290,\n",
              " '採用': 22040,\n",
              " 'その他': 6559,\n",
              " '多数': 19085,\n",
              " '著作': 27513,\n",
              " '集': 30215,\n",
              " '白': 25427,\n",
              " '林': 23310,\n",
              " '帖': 20354,\n",
              " '影絵': 20857,\n",
              " '広場': 20536,\n",
              " '人生': 15724,\n",
              " '歳月': 23799,\n",
              " '1952': 641,\n",
              " '第': 26262,\n",
              " '回': 18593,\n",
              " 'エッセイスト': 8691,\n",
              " 'クラブ': 9486,\n",
              " '賞': 28762,\n",
              " '受賞': 17982,\n",
              " '閉体': 29927,\n",
              " 'k': 3285,\n",
              " 'だいす': 6686,\n",
              " 'たい': 6595,\n",
              " '根': 23376,\n",
              " '書ける': 22947,\n",
              " '有理数': 23062,\n",
              " 'ラミナ': 14207,\n",
              " '層': 20155,\n",
              " 'ぞ': 6590,\n",
              " 'く': 6135,\n",
              " 'ラミナー': 14208,\n",
              " '種類': 26083,\n",
              " 'ひとつ': 7241,\n",
              " 'v': 5301,\n",
              " 'a': 1225,\n",
              " 'b': 1506,\n",
              " '差': 20303,\n",
              " '交差': 15654,\n",
              " 'intersect': 3163,\n",
              " 'つ': 6736,\n",
              " '互いに': 15600,\n",
              " 'よば': 7759,\n",
              " '無': 24672,\n",
              " '交叉': 15650,\n",
              " 'cross': 2068,\n",
              " 'free': 2640,\n",
              " 'family': 2522,\n",
              " '有向木': 23049,\n",
              " '時空': 22817,\n",
              " 'じ': 6423,\n",
              " 'くう': 6137,\n",
              " '用語': 25188,\n",
              " '関連': 30022,\n",
              " 'ニュートン': 11769,\n",
              " ...}"
            ]
          },
          "metadata": {
            "tags": []
          },
          "execution_count": 26
        }
      ]
    },
    {
      "cell_type": "markdown",
      "metadata": {
        "colab_type": "text",
        "id": "bnDo6uFfa-97"
      },
      "source": [
        "　"
      ]
    },
    {
      "cell_type": "markdown",
      "metadata": {
        "colab_type": "text",
        "id": "e9T8K1Sba-97"
      },
      "source": [
        "## TF-IDF変換\n",
        "---\n",
        "\n",
        "TF-IDF 変換を行うと、単語の出現回数に、他の文書全体と比較した際の希少性 (レア度) で重みを付けることができます。\n",
        "\n",
        "TF-IDF 変換済みの単語文書行列は、`TfidfVectorizer` で作成できます。"
      ]
    },
    {
      "cell_type": "markdown",
      "metadata": {
        "colab_type": "text",
        "id": "ghxLSFzAa-98"
      },
      "source": [
        "### 簡単な例"
      ]
    },
    {
      "cell_type": "code",
      "metadata": {
        "colab_type": "code",
        "id": "piBBAXK-a-98",
        "colab": {}
      },
      "source": [
        "# token_pattern は、デフォルトだと1文字の単語を除外するので、除外しないように設定する\n",
        "vectorizer = TfidfVectorizer(token_pattern=r\"(?u)\\b\\w+\\b\")"
      ],
      "execution_count": 0,
      "outputs": []
    },
    {
      "cell_type": "code",
      "metadata": {
        "id": "NwkRDYC7ylW0",
        "colab_type": "code",
        "colab": {}
      },
      "source": [
        "df[\"\"]"
      ],
      "execution_count": 0,
      "outputs": []
    },
    {
      "cell_type": "code",
      "metadata": {
        "colab_type": "code",
        "id": "Lr3yT8tXa-9-",
        "outputId": "31145b0e-e582-490f-ece8-475c9e22a2bd",
        "colab": {
          "base_uri": "https://localhost:8080/",
          "height": 126
        }
      },
      "source": [
        "# スペース区切りの文書をリストで与える\n",
        "X = vectorizer.fit_transform([\n",
        "    \"This is a pen\",\n",
        "    \"I am not a pen\",\n",
        "    \"Hello\"\n",
        "])\n",
        "X.toarray()"
      ],
      "execution_count": 0,
      "outputs": [
        {
          "output_type": "execute_result",
          "data": {
            "text/plain": [
              "array([[0.42804604, 0.        , 0.        , 0.        , 0.5628291 ,\n",
              "        0.        , 0.42804604, 0.5628291 ],\n",
              "       [0.37302199, 0.49047908, 0.        , 0.49047908, 0.        ,\n",
              "        0.49047908, 0.37302199, 0.        ],\n",
              "       [0.        , 0.        , 1.        , 0.        , 0.        ,\n",
              "        0.        , 0.        , 0.        ]])"
            ]
          },
          "metadata": {
            "tags": []
          },
          "execution_count": 28
        }
      ]
    },
    {
      "cell_type": "code",
      "metadata": {
        "colab_type": "code",
        "id": "of0bRS66a-9_",
        "outputId": "c1b5329e-5718-4fe7-b497-9ae9c8889003",
        "colab": {
          "base_uri": "https://localhost:8080/",
          "height": 140
        }
      },
      "source": [
        "# ※これは、演習用に単語文書行列を DataFrame に変換して見やすくしてみるためのコードで、覚える必要はありません\n",
        "pd.DataFrame(X.toarray(), columns=[ x[0] for x in sorted(vectorizer.vocabulary_.items(), key=lambda x: x[1]) ])"
      ],
      "execution_count": 0,
      "outputs": [
        {
          "output_type": "execute_result",
          "data": {
            "text/html": [
              "<div>\n",
              "<style scoped>\n",
              "    .dataframe tbody tr th:only-of-type {\n",
              "        vertical-align: middle;\n",
              "    }\n",
              "\n",
              "    .dataframe tbody tr th {\n",
              "        vertical-align: top;\n",
              "    }\n",
              "\n",
              "    .dataframe thead th {\n",
              "        text-align: right;\n",
              "    }\n",
              "</style>\n",
              "<table border=\"1\" class=\"dataframe\">\n",
              "  <thead>\n",
              "    <tr style=\"text-align: right;\">\n",
              "      <th></th>\n",
              "      <th>a</th>\n",
              "      <th>am</th>\n",
              "      <th>hello</th>\n",
              "      <th>i</th>\n",
              "      <th>is</th>\n",
              "      <th>not</th>\n",
              "      <th>pen</th>\n",
              "      <th>this</th>\n",
              "    </tr>\n",
              "  </thead>\n",
              "  <tbody>\n",
              "    <tr>\n",
              "      <th>0</th>\n",
              "      <td>0.428046</td>\n",
              "      <td>0.000000</td>\n",
              "      <td>0.0</td>\n",
              "      <td>0.000000</td>\n",
              "      <td>0.562829</td>\n",
              "      <td>0.000000</td>\n",
              "      <td>0.428046</td>\n",
              "      <td>0.562829</td>\n",
              "    </tr>\n",
              "    <tr>\n",
              "      <th>1</th>\n",
              "      <td>0.373022</td>\n",
              "      <td>0.490479</td>\n",
              "      <td>0.0</td>\n",
              "      <td>0.490479</td>\n",
              "      <td>0.000000</td>\n",
              "      <td>0.490479</td>\n",
              "      <td>0.373022</td>\n",
              "      <td>0.000000</td>\n",
              "    </tr>\n",
              "    <tr>\n",
              "      <th>2</th>\n",
              "      <td>0.000000</td>\n",
              "      <td>0.000000</td>\n",
              "      <td>1.0</td>\n",
              "      <td>0.000000</td>\n",
              "      <td>0.000000</td>\n",
              "      <td>0.000000</td>\n",
              "      <td>0.000000</td>\n",
              "      <td>0.000000</td>\n",
              "    </tr>\n",
              "  </tbody>\n",
              "</table>\n",
              "</div>"
            ],
            "text/plain": [
              "          a        am  hello         i        is       not       pen      this\n",
              "0  0.428046  0.000000    0.0  0.000000  0.562829  0.000000  0.428046  0.562829\n",
              "1  0.373022  0.490479    0.0  0.490479  0.000000  0.490479  0.373022  0.000000\n",
              "2  0.000000  0.000000    1.0  0.000000  0.000000  0.000000  0.000000  0.000000"
            ]
          },
          "metadata": {
            "tags": []
          },
          "execution_count": 29
        }
      ]
    },
    {
      "cell_type": "markdown",
      "metadata": {
        "colab_type": "text",
        "id": "lwkAuD2oa--B"
      },
      "source": [
        "他の文書でも出現している単語については、同じ出現回数でも重みが低くなっていることが分かります。各単語の重みは、`idf_` で見ることができます。確認してみましょう。"
      ]
    },
    {
      "cell_type": "code",
      "metadata": {
        "colab_type": "code",
        "id": "ImsppSXDa--C",
        "outputId": "20322fe7-be7c-4783-a5bf-21bf34a13a92",
        "colab": {
          "base_uri": "https://localhost:8080/",
          "height": 53
        }
      },
      "source": [
        "vectorizer.idf_"
      ],
      "execution_count": 0,
      "outputs": [
        {
          "output_type": "execute_result",
          "data": {
            "text/plain": [
              "array([1.28768207, 1.69314718, 1.69314718, 1.69314718, 1.69314718,\n",
              "       1.69314718, 1.28768207, 1.69314718])"
            ]
          },
          "metadata": {
            "tags": []
          },
          "execution_count": 30
        }
      ]
    },
    {
      "cell_type": "code",
      "metadata": {
        "colab_type": "code",
        "id": "7-QiVXs_a--E",
        "outputId": "4c6b46b7-7435-45d8-cc6a-58d218b8d790",
        "colab": {
          "base_uri": "https://localhost:8080/",
          "height": 79
        }
      },
      "source": [
        "# ※これは、演習用に IDF 値を DataFrame に変換して見やすくしてみるためのコードで、覚える必要はありません\n",
        "pd.DataFrame(np.atleast_2d(vectorizer.idf_), columns=[ x[0] for x in sorted(vectorizer.vocabulary_.items(), key=lambda x: x[1]) ])"
      ],
      "execution_count": 0,
      "outputs": [
        {
          "output_type": "execute_result",
          "data": {
            "text/html": [
              "<div>\n",
              "<style scoped>\n",
              "    .dataframe tbody tr th:only-of-type {\n",
              "        vertical-align: middle;\n",
              "    }\n",
              "\n",
              "    .dataframe tbody tr th {\n",
              "        vertical-align: top;\n",
              "    }\n",
              "\n",
              "    .dataframe thead th {\n",
              "        text-align: right;\n",
              "    }\n",
              "</style>\n",
              "<table border=\"1\" class=\"dataframe\">\n",
              "  <thead>\n",
              "    <tr style=\"text-align: right;\">\n",
              "      <th></th>\n",
              "      <th>a</th>\n",
              "      <th>am</th>\n",
              "      <th>hello</th>\n",
              "      <th>i</th>\n",
              "      <th>is</th>\n",
              "      <th>not</th>\n",
              "      <th>pen</th>\n",
              "      <th>this</th>\n",
              "    </tr>\n",
              "  </thead>\n",
              "  <tbody>\n",
              "    <tr>\n",
              "      <th>0</th>\n",
              "      <td>1.287682</td>\n",
              "      <td>1.693147</td>\n",
              "      <td>1.693147</td>\n",
              "      <td>1.693147</td>\n",
              "      <td>1.693147</td>\n",
              "      <td>1.693147</td>\n",
              "      <td>1.287682</td>\n",
              "      <td>1.693147</td>\n",
              "    </tr>\n",
              "  </tbody>\n",
              "</table>\n",
              "</div>"
            ],
            "text/plain": [
              "          a        am     hello  ...       not       pen      this\n",
              "0  1.287682  1.693147  1.693147  ...  1.693147  1.287682  1.693147\n",
              "\n",
              "[1 rows x 8 columns]"
            ]
          },
          "metadata": {
            "tags": []
          },
          "execution_count": 31
        }
      ]
    },
    {
      "cell_type": "markdown",
      "metadata": {
        "colab_type": "text",
        "id": "z35bpbtfa--F"
      },
      "source": [
        "デフォルトでは、各文書のノルムが1になるように正規化されています (norm=\"l2\")。確認してみましょう。"
      ]
    },
    {
      "cell_type": "code",
      "metadata": {
        "colab_type": "code",
        "id": "Z2Gle3k3a--G",
        "outputId": "cf770567-59ce-46b6-c97e-7cea0ca0dfe5",
        "colab": {
          "base_uri": "https://localhost:8080/",
          "height": 35
        }
      },
      "source": [
        "np.linalg.norm(X.toarray(), axis=1)"
      ],
      "execution_count": 0,
      "outputs": [
        {
          "output_type": "execute_result",
          "data": {
            "text/plain": [
              "array([1., 1., 1.])"
            ]
          },
          "metadata": {
            "tags": []
          },
          "execution_count": 32
        }
      ]
    },
    {
      "cell_type": "markdown",
      "metadata": {
        "colab_type": "text",
        "id": "PiWBOEJ6a--J"
      },
      "source": [
        "### 日本語データに適用\n",
        "CountVectorizer の場合と同様に、前処理済みの日本語データに適用してみます。"
      ]
    },
    {
      "cell_type": "code",
      "metadata": {
        "colab_type": "code",
        "id": "tcPEur6xa--J",
        "colab": {}
      },
      "source": [
        "vectorizer = TfidfVectorizer(token_pattern=r\"(?u)\\b\\w+\\b\")\n",
        "X = vectorizer.fit_transform(df[\"text_tokenized\"])"
      ],
      "execution_count": 0,
      "outputs": []
    },
    {
      "cell_type": "code",
      "metadata": {
        "colab_type": "code",
        "id": "yB3krCe_a--L",
        "outputId": "3754c951-488f-4dd0-a514-1840c8a5c2ab",
        "colab": {
          "base_uri": "https://localhost:8080/",
          "height": 35
        }
      },
      "source": [
        "X[0].toarray()"
      ],
      "execution_count": 0,
      "outputs": [
        {
          "output_type": "execute_result",
          "data": {
            "text/plain": [
              "array([[0., 0., 0., ..., 0., 0., 0.]])"
            ]
          },
          "metadata": {
            "tags": []
          },
          "execution_count": 34
        }
      ]
    },
    {
      "cell_type": "markdown",
      "metadata": {
        "colab_type": "text",
        "id": "exlfUKQYa--M"
      },
      "source": [
        "IDF 値の大きい単語・小さい単語を確認してみましょう。"
      ]
    },
    {
      "cell_type": "code",
      "metadata": {
        "colab_type": "code",
        "id": "7SYAjaLOa--N",
        "outputId": "e750194a-a48d-4184-95ef-3ff216aea720",
        "scrolled": true,
        "colab": {
          "base_uri": "https://localhost:8080/",
          "height": 415
        }
      },
      "source": [
        "# ※これは、演習用に IDF 値を DataFrame に変換して見やすくしてみるためのコードで、覚える必要はありません\n",
        "pd.Series(vectorizer.idf_, index=[ x[0] for x in sorted(vectorizer.vocabulary_.items(), key=lambda x: x[1]) ]) \\\n",
        "    .to_frame(\"idf\") \\\n",
        "    .sort_values(\"idf\", ascending=False)"
      ],
      "execution_count": 0,
      "outputs": [
        {
          "output_type": "execute_result",
          "data": {
            "text/html": [
              "<div>\n",
              "<style scoped>\n",
              "    .dataframe tbody tr th:only-of-type {\n",
              "        vertical-align: middle;\n",
              "    }\n",
              "\n",
              "    .dataframe tbody tr th {\n",
              "        vertical-align: top;\n",
              "    }\n",
              "\n",
              "    .dataframe thead th {\n",
              "        text-align: right;\n",
              "    }\n",
              "</style>\n",
              "<table border=\"1\" class=\"dataframe\">\n",
              "  <thead>\n",
              "    <tr style=\"text-align: right;\">\n",
              "      <th></th>\n",
              "      <th>idf</th>\n",
              "    </tr>\n",
              "  </thead>\n",
              "  <tbody>\n",
              "    <tr>\n",
              "      <th>リゾーマタ</th>\n",
              "      <td>7.215608</td>\n",
              "    </tr>\n",
              "    <tr>\n",
              "      <th>下がら</th>\n",
              "      <td>7.215608</td>\n",
              "    </tr>\n",
              "    <tr>\n",
              "      <th>下人</th>\n",
              "      <td>7.215608</td>\n",
              "    </tr>\n",
              "    <tr>\n",
              "      <th>下中</th>\n",
              "      <td>7.215608</td>\n",
              "    </tr>\n",
              "    <tr>\n",
              "      <th>下ろす</th>\n",
              "      <td>7.215608</td>\n",
              "    </tr>\n",
              "    <tr>\n",
              "      <th>...</th>\n",
              "      <td>...</td>\n",
              "    </tr>\n",
              "    <tr>\n",
              "      <th>に</th>\n",
              "      <td>1.105250</td>\n",
              "    </tr>\n",
              "    <tr>\n",
              "      <th>で</th>\n",
              "      <td>1.080043</td>\n",
              "    </tr>\n",
              "    <tr>\n",
              "      <th>を</th>\n",
              "      <td>1.072496</td>\n",
              "    </tr>\n",
              "    <tr>\n",
              "      <th>は</th>\n",
              "      <td>1.014085</td>\n",
              "    </tr>\n",
              "    <tr>\n",
              "      <th>の</th>\n",
              "      <td>1.013072</td>\n",
              "    </tr>\n",
              "  </tbody>\n",
              "</table>\n",
              "<p>30875 rows × 1 columns</p>\n",
              "</div>"
            ],
            "text/plain": [
              "            idf\n",
              "リゾーマタ  7.215608\n",
              "下がら    7.215608\n",
              "下人     7.215608\n",
              "下中     7.215608\n",
              "下ろす    7.215608\n",
              "...         ...\n",
              "に      1.105250\n",
              "で      1.080043\n",
              "を      1.072496\n",
              "は      1.014085\n",
              "の      1.013072\n",
              "\n",
              "[30875 rows x 1 columns]"
            ]
          },
          "metadata": {
            "tags": []
          },
          "execution_count": 35
        }
      ]
    },
    {
      "cell_type": "markdown",
      "metadata": {
        "colab_type": "text",
        "id": "AkVS36Cja--O"
      },
      "source": [
        " "
      ]
    },
    {
      "cell_type": "markdown",
      "metadata": {
        "colab_type": "text",
        "id": "-rYChGyna--O"
      },
      "source": [
        "## テキスト分類\n",
        "---\n",
        "定量化したテキスト情報を使うことで、テキストをカテゴリー別に分類してみましょう"
      ]
    },
    {
      "cell_type": "code",
      "metadata": {
        "colab_type": "code",
        "id": "JVGT1gv4a--P",
        "outputId": "5286b250-d7b8-4a71-df97-510791fea29c",
        "colab": {
          "base_uri": "https://localhost:8080/",
          "height": 236
        }
      },
      "source": [
        "# テストデータ\n",
        "df_test = pd.read_csv(\"dataset/wikipedia-test.txt\", sep=\"\\t\")\n",
        "df_test.head()"
      ],
      "execution_count": 0,
      "outputs": [
        {
          "output_type": "execute_result",
          "data": {
            "text/html": [
              "<div>\n",
              "<style scoped>\n",
              "    .dataframe tbody tr th:only-of-type {\n",
              "        vertical-align: middle;\n",
              "    }\n",
              "\n",
              "    .dataframe tbody tr th {\n",
              "        vertical-align: top;\n",
              "    }\n",
              "\n",
              "    .dataframe thead th {\n",
              "        text-align: right;\n",
              "    }\n",
              "</style>\n",
              "<table border=\"1\" class=\"dataframe\">\n",
              "  <thead>\n",
              "    <tr style=\"text-align: right;\">\n",
              "      <th></th>\n",
              "      <th>category</th>\n",
              "      <th>text</th>\n",
              "    </tr>\n",
              "  </thead>\n",
              "  <tbody>\n",
              "    <tr>\n",
              "      <th>0</th>\n",
              "      <td>philosophy</td>\n",
              "      <td>細見和之 細見和之（ほそみ　かずゆき、1962年2月27日）は、日本の詩人、京都大学教授、大...</td>\n",
              "    </tr>\n",
              "    <tr>\n",
              "      <th>1</th>\n",
              "      <td>mathematics</td>\n",
              "      <td>グライバッハ標準形 計算機科学において、文脈自由言語の全ての生成規則が次のように書けるとき、...</td>\n",
              "    </tr>\n",
              "    <tr>\n",
              "      <th>2</th>\n",
              "      <td>mathematics</td>\n",
              "      <td>淡中圏 淡中圏（たんなかけん、TANNAKIAN CATEGORY）とは与えられた体\"K\"に...</td>\n",
              "    </tr>\n",
              "    <tr>\n",
              "      <th>3</th>\n",
              "      <td>mathematics</td>\n",
              "      <td>根岸世雄 根岸 世雄（ねぎし ときお、1929年 - 2005年1月26日）は、日本の数学者...</td>\n",
              "    </tr>\n",
              "    <tr>\n",
              "      <th>4</th>\n",
              "      <td>mathematics</td>\n",
              "      <td>CEF CEF</td>\n",
              "    </tr>\n",
              "  </tbody>\n",
              "</table>\n",
              "</div>"
            ],
            "text/plain": [
              "      category                                               text\n",
              "0   philosophy  細見和之 細見和之（ほそみ　かずゆき、1962年2月27日）は、日本の詩人、京都大学教授、大...\n",
              "1  mathematics  グライバッハ標準形 計算機科学において、文脈自由言語の全ての生成規則が次のように書けるとき、...\n",
              "2  mathematics  淡中圏 淡中圏（たんなかけん、TANNAKIAN CATEGORY）とは与えられた体\"K\"に...\n",
              "3  mathematics  根岸世雄 根岸 世雄（ねぎし ときお、1929年 - 2005年1月26日）は、日本の数学者...\n",
              "4  mathematics                                           CEF CEF "
            ]
          },
          "metadata": {
            "tags": []
          },
          "execution_count": 36
        }
      ]
    },
    {
      "cell_type": "markdown",
      "metadata": {
        "colab_type": "text",
        "id": "JIAl91qja--Q"
      },
      "source": [
        "### 単語文書行列 (TF-IDF 適用済み) の作成\n",
        "単語文章行列を作成する前に、まずは文章を形態素解析します。"
      ]
    },
    {
      "cell_type": "code",
      "metadata": {
        "colab_type": "code",
        "id": "eTx-3037a--Q",
        "colab": {}
      },
      "source": [
        "mecab = MeCab.Tagger(\"-O wakati\")\n",
        "\n",
        "text_tokenized = []\n",
        "for text in df_test['text']:\n",
        "    text_tokenized.append(mecab.parse(text))\n",
        "    \n",
        "df_test['text_tokenized'] = text_tokenized"
      ],
      "execution_count": 0,
      "outputs": []
    },
    {
      "cell_type": "markdown",
      "metadata": {
        "colab_type": "text",
        "id": "3v5MoEC4a--U"
      },
      "source": [
        "続いて、単語文章行列を学習データテストデータでそれぞれ生成します。<br>\n",
        "この時、2つの単語文章行列は同じ次元数でなければならないので、`transform`を使用します"
      ]
    },
    {
      "cell_type": "code",
      "metadata": {
        "colab_type": "code",
        "id": "OCvYhqiWa--V",
        "colab": {}
      },
      "source": [
        "vectorizer = TfidfVectorizer(token_pattern=r\"(?u)\\b\\w+\\b\")\n",
        "X = vectorizer.fit_transform(df[\"text_tokenized\"])"
      ],
      "execution_count": 0,
      "outputs": []
    },
    {
      "cell_type": "code",
      "metadata": {
        "colab_type": "code",
        "id": "YGoM-SX2a--W",
        "colab": {}
      },
      "source": [
        "X_test = vectorizer.transform(df_test[\"text_tokenized\"])"
      ],
      "execution_count": 0,
      "outputs": []
    },
    {
      "cell_type": "markdown",
      "metadata": {
        "colab_type": "text",
        "id": "S88NkqlQa--Z"
      },
      "source": [
        "### 分類器の適用・比較\n",
        "単語文書行列ができたら、後はこれまでやってきた機械学習と同様です。\n",
        "\n",
        "いくつかの分類器で、性能を比較してみましょう。"
      ]
    },
    {
      "cell_type": "code",
      "metadata": {
        "colab_type": "code",
        "id": "dXtCFjkja--a",
        "colab": {}
      },
      "source": [
        "# Accuracy, Precision/Recall/F-score/Support, Confusion Matrix を表示\n",
        "def show_evaluation_metrics(y_true, y_pred):\n",
        "    print(\"Accuracy:\")\n",
        "    print(accuracy_score(y_true, y_pred))\n",
        "    print()\n",
        "    \n",
        "    print(\"Report:\")\n",
        "    print(classification_report(y_true, y_pred))\n",
        "    \n",
        "    print(\"Confusion matrix:\")\n",
        "    print(confusion_matrix(y_true, y_pred))"
      ],
      "execution_count": 0,
      "outputs": []
    },
    {
      "cell_type": "markdown",
      "metadata": {
        "colab_type": "text",
        "id": "fT-t_hBma--b"
      },
      "source": [
        "### ロジスティック回帰"
      ]
    },
    {
      "cell_type": "code",
      "metadata": {
        "colab_type": "code",
        "id": "cTmFq6lma--d",
        "outputId": "79eebb13-98b6-4303-c4ba-9a6486be1983",
        "colab": {
          "base_uri": "https://localhost:8080/"
        }
      },
      "source": [
        "clf_lr = LogisticRegression(n_jobs=-1)\n",
        "clf_lr.fit(X, df[\"category\"])"
      ],
      "execution_count": 0,
      "outputs": [
        {
          "output_type": "stream",
          "text": [
            "/usr/local/lib/python3.6/dist-packages/sklearn/linear_model/logistic.py:432: FutureWarning: Default solver will be changed to 'lbfgs' in 0.22. Specify a solver to silence this warning.\n",
            "  FutureWarning)\n",
            "/usr/local/lib/python3.6/dist-packages/sklearn/linear_model/logistic.py:1544: UserWarning: 'n_jobs' > 1 does not have any effect when 'solver' is set to 'liblinear'. Got 'n_jobs' = 2.\n",
            "  \" = {}.\".format(effective_n_jobs(self.n_jobs)))\n"
          ],
          "name": "stderr"
        },
        {
          "output_type": "execute_result",
          "data": {
            "text/plain": [
              "LogisticRegression(C=1.0, class_weight=None, dual=False, fit_intercept=True,\n",
              "                   intercept_scaling=1, l1_ratio=None, max_iter=100,\n",
              "                   multi_class='warn', n_jobs=-1, penalty='l2',\n",
              "                   random_state=None, solver='warn', tol=0.0001, verbose=0,\n",
              "                   warm_start=False)"
            ]
          },
          "metadata": {
            "tags": []
          },
          "execution_count": 41
        }
      ]
    },
    {
      "cell_type": "markdown",
      "metadata": {
        "colab_type": "text",
        "id": "MInsT37Ha--f"
      },
      "source": [
        "推定結果は predict で得ることができます (他の分類器でも同様)。"
      ]
    },
    {
      "cell_type": "code",
      "metadata": {
        "colab_type": "code",
        "id": "TXPjYVtQa--f",
        "outputId": "ae1ed7c2-c620-4fdb-b817-67a4edef310b",
        "scrolled": true,
        "colab": {
          "base_uri": "https://localhost:8080/"
        }
      },
      "source": [
        "clf_lr.predict(X_test)"
      ],
      "execution_count": 0,
      "outputs": [
        {
          "output_type": "execute_result",
          "data": {
            "text/plain": [
              "array(['philosophy', 'mathematics', 'mathematics', 'mathematics',\n",
              "       'mathematics', 'philosophy', 'mathematics', 'philosophy',\n",
              "       'philosophy', 'philosophy', 'philosophy', 'philosophy',\n",
              "       'mathematics', 'mathematics', 'mathematics', 'mathematics',\n",
              "       'mathematics', 'philosophy', 'mathematics', 'philosophy',\n",
              "       'mathematics', 'mathematics', 'philosophy', 'mathematics',\n",
              "       'mathematics', 'philosophy', 'philosophy', 'mathematics',\n",
              "       'mathematics', 'philosophy', 'mathematics', 'mathematics',\n",
              "       'mathematics', 'mathematics', 'mathematics', 'philosophy',\n",
              "       'philosophy', 'mathematics', 'philosophy', 'mathematics',\n",
              "       'mathematics', 'mathematics', 'mathematics', 'mathematics',\n",
              "       'mathematics', 'philosophy', 'mathematics', 'mathematics',\n",
              "       'mathematics', 'philosophy', 'mathematics', 'mathematics',\n",
              "       'philosophy', 'philosophy', 'mathematics', 'philosophy',\n",
              "       'mathematics', 'mathematics', 'mathematics', 'mathematics',\n",
              "       'mathematics', 'mathematics', 'mathematics', 'mathematics',\n",
              "       'philosophy', 'mathematics', 'mathematics', 'philosophy',\n",
              "       'mathematics', 'mathematics', 'mathematics', 'mathematics',\n",
              "       'mathematics', 'philosophy', 'mathematics', 'mathematics',\n",
              "       'mathematics', 'mathematics', 'mathematics', 'mathematics',\n",
              "       'mathematics', 'mathematics', 'mathematics', 'philosophy',\n",
              "       'philosophy', 'mathematics', 'mathematics', 'mathematics',\n",
              "       'mathematics', 'philosophy', 'mathematics', 'mathematics',\n",
              "       'philosophy', 'mathematics', 'mathematics', 'mathematics',\n",
              "       'mathematics', 'mathematics', 'mathematics', 'mathematics'],\n",
              "      dtype=object)"
            ]
          },
          "metadata": {
            "tags": []
          },
          "execution_count": 42
        }
      ]
    },
    {
      "cell_type": "code",
      "metadata": {
        "colab_type": "code",
        "id": "g0m11vAla--g",
        "outputId": "adc89332-8402-40d2-f7c4-8c656ca28e9c",
        "colab": {
          "base_uri": "https://localhost:8080/"
        }
      },
      "source": [
        "y_test_pred = clf_lr.predict(X_test)\n",
        "show_evaluation_metrics(df_test[\"category\"], y_test_pred)"
      ],
      "execution_count": 0,
      "outputs": [
        {
          "output_type": "stream",
          "text": [
            "Accuracy:\n",
            "0.89\n",
            "\n",
            "Report:\n",
            "              precision    recall  f1-score   support\n",
            "\n",
            " mathematics       0.89      0.96      0.92        67\n",
            "  philosophy       0.89      0.76      0.82        33\n",
            "\n",
            "    accuracy                           0.89       100\n",
            "   macro avg       0.89      0.86      0.87       100\n",
            "weighted avg       0.89      0.89      0.89       100\n",
            "\n",
            "Confusion matrix:\n",
            "[[64  3]\n",
            " [ 8 25]]\n"
          ],
          "name": "stdout"
        }
      ]
    },
    {
      "cell_type": "markdown",
      "metadata": {
        "colab_type": "text",
        "id": "zgstWu1sa--j"
      },
      "source": [
        "### SVM (線形カーネル)"
      ]
    },
    {
      "cell_type": "code",
      "metadata": {
        "colab_type": "code",
        "id": "g9cOBtQ4a--l",
        "outputId": "0d230670-71ad-4ec2-d3d2-e236902c9ac0",
        "colab": {
          "base_uri": "https://localhost:8080/"
        }
      },
      "source": [
        "clf_svc = LinearSVC()\n",
        "clf_svc.fit(X, df[\"category\"])"
      ],
      "execution_count": 0,
      "outputs": [
        {
          "output_type": "execute_result",
          "data": {
            "text/plain": [
              "LinearSVC(C=1.0, class_weight=None, dual=True, fit_intercept=True,\n",
              "          intercept_scaling=1, loss='squared_hinge', max_iter=1000,\n",
              "          multi_class='ovr', penalty='l2', random_state=None, tol=0.0001,\n",
              "          verbose=0)"
            ]
          },
          "metadata": {
            "tags": []
          },
          "execution_count": 44
        }
      ]
    },
    {
      "cell_type": "code",
      "metadata": {
        "colab_type": "code",
        "id": "GVEYwyxua--m",
        "outputId": "6ff4d49b-bd88-4fb5-cdb4-ed0b5192d2a1",
        "colab": {
          "base_uri": "https://localhost:8080/"
        }
      },
      "source": [
        "y_test_pred = clf_svc.predict(X_test)\n",
        "show_evaluation_metrics(df_test[\"category\"], y_test_pred)"
      ],
      "execution_count": 0,
      "outputs": [
        {
          "output_type": "stream",
          "text": [
            "Accuracy:\n",
            "0.92\n",
            "\n",
            "Report:\n",
            "              precision    recall  f1-score   support\n",
            "\n",
            " mathematics       0.93      0.96      0.94        67\n",
            "  philosophy       0.90      0.85      0.88        33\n",
            "\n",
            "    accuracy                           0.92       100\n",
            "   macro avg       0.92      0.90      0.91       100\n",
            "weighted avg       0.92      0.92      0.92       100\n",
            "\n",
            "Confusion matrix:\n",
            "[[64  3]\n",
            " [ 5 28]]\n"
          ],
          "name": "stdout"
        }
      ]
    },
    {
      "cell_type": "markdown",
      "metadata": {
        "colab_type": "text",
        "id": "G5fYOekxa--n"
      },
      "source": [
        "### Random Forest"
      ]
    },
    {
      "cell_type": "code",
      "metadata": {
        "colab_type": "code",
        "id": "nhbpiDg2a--n",
        "outputId": "b6d4d96f-7d35-4b76-90c8-10401acfa225",
        "colab": {
          "base_uri": "https://localhost:8080/"
        }
      },
      "source": [
        "clf_rf = RandomForestClassifier(n_estimators=50, n_jobs=-1)\n",
        "clf_rf.fit(X, df[\"category\"])"
      ],
      "execution_count": 0,
      "outputs": [
        {
          "output_type": "execute_result",
          "data": {
            "text/plain": [
              "RandomForestClassifier(bootstrap=True, class_weight=None, criterion='gini',\n",
              "                       max_depth=None, max_features='auto', max_leaf_nodes=None,\n",
              "                       min_impurity_decrease=0.0, min_impurity_split=None,\n",
              "                       min_samples_leaf=1, min_samples_split=2,\n",
              "                       min_weight_fraction_leaf=0.0, n_estimators=50, n_jobs=-1,\n",
              "                       oob_score=False, random_state=None, verbose=0,\n",
              "                       warm_start=False)"
            ]
          },
          "metadata": {
            "tags": []
          },
          "execution_count": 46
        }
      ]
    },
    {
      "cell_type": "code",
      "metadata": {
        "colab_type": "code",
        "id": "zSc1ShwPa--p",
        "outputId": "e11088d5-2090-4ad9-d00c-3f071e5c54d8",
        "colab": {
          "base_uri": "https://localhost:8080/"
        }
      },
      "source": [
        "y_test_pred = clf_rf.predict(X_test)\n",
        "show_evaluation_metrics(df_test[\"category\"], y_test_pred)"
      ],
      "execution_count": 0,
      "outputs": [
        {
          "output_type": "stream",
          "text": [
            "Accuracy:\n",
            "0.89\n",
            "\n",
            "Report:\n",
            "              precision    recall  f1-score   support\n",
            "\n",
            " mathematics       0.89      0.96      0.92        67\n",
            "  philosophy       0.89      0.76      0.82        33\n",
            "\n",
            "    accuracy                           0.89       100\n",
            "   macro avg       0.89      0.86      0.87       100\n",
            "weighted avg       0.89      0.89      0.89       100\n",
            "\n",
            "Confusion matrix:\n",
            "[[64  3]\n",
            " [ 8 25]]\n"
          ],
          "name": "stdout"
        }
      ]
    },
    {
      "cell_type": "markdown",
      "metadata": {
        "colab_type": "text",
        "id": "-IepwcsMa--r"
      },
      "source": [
        "　"
      ]
    },
    {
      "cell_type": "markdown",
      "metadata": {
        "colab_type": "text",
        "id": "6oxDCnVRa--r"
      },
      "source": [
        "## 【演習1】\n",
        "上記いずれかのアルゴリズムのパラメータを変更して、分類精度を高めてみましょう。"
      ]
    },
    {
      "cell_type": "code",
      "metadata": {
        "colab_type": "code",
        "id": "1bCd0XTqa--s",
        "colab": {}
      },
      "source": [
        "# Enter your code here"
      ],
      "execution_count": 0,
      "outputs": []
    },
    {
      "cell_type": "markdown",
      "metadata": {
        "colab_type": "text",
        "id": "GoAMg4Rka--u"
      },
      "source": [
        "　"
      ]
    },
    {
      "cell_type": "markdown",
      "metadata": {
        "colab_type": "text",
        "id": "CB2NQkE2a--w"
      },
      "source": [
        "### モデルの保存\n",
        "`pickle` でも保存できますが、`joblib` を使い、ファイル名末尾に `.gz`, `.bz2` 等を指定すると、自動的に圧縮してくれます。読み込み時も同様、自動的に解凍して読み込んでくれます。\n",
        "\n",
        "言語処理ではモデルが大容量になることが多いため、モデルの圧縮は重要です。"
      ]
    },
    {
      "cell_type": "code",
      "metadata": {
        "colab_type": "code",
        "id": "hEgXmXvha--w",
        "outputId": "f3943e96-c2e6-4645-d053-bdfe72d6fef1",
        "colab": {
          "base_uri": "https://localhost:8080/"
        }
      },
      "source": [
        "joblib.dump(clf_rf, \"wikipedia_category_classifier.pkl.gz\")"
      ],
      "execution_count": 0,
      "outputs": [
        {
          "output_type": "execute_result",
          "data": {
            "text/plain": [
              "['wikipedia_category_classifier.pkl.gz']"
            ]
          },
          "metadata": {
            "tags": []
          },
          "execution_count": 49
        }
      ]
    },
    {
      "cell_type": "markdown",
      "metadata": {
        "colab_type": "text",
        "id": "kh4d5bGPa--1"
      },
      "source": [
        "### モデル読み込みテスト"
      ]
    },
    {
      "cell_type": "code",
      "metadata": {
        "colab_type": "code",
        "id": "tDXcsBD8a--1",
        "outputId": "2ab0b82d-8fc8-40e5-e9a3-fd3a31d419e6",
        "colab": {
          "base_uri": "https://localhost:8080/"
        }
      },
      "source": [
        "clf_rf_restored = joblib.load(\"wikipedia_category_classifier.pkl.gz\")\n",
        "clf_rf_restored"
      ],
      "execution_count": 0,
      "outputs": [
        {
          "output_type": "execute_result",
          "data": {
            "text/plain": [
              "RandomForestClassifier(bootstrap=True, class_weight=None, criterion='gini',\n",
              "                       max_depth=None, max_features='auto', max_leaf_nodes=None,\n",
              "                       min_impurity_decrease=0.0, min_impurity_split=None,\n",
              "                       min_samples_leaf=1, min_samples_split=2,\n",
              "                       min_weight_fraction_leaf=0.0, n_estimators=50, n_jobs=-1,\n",
              "                       oob_score=False, random_state=None, verbose=0,\n",
              "                       warm_start=False)"
            ]
          },
          "metadata": {
            "tags": []
          },
          "execution_count": 50
        }
      ]
    },
    {
      "cell_type": "markdown",
      "metadata": {
        "colab_type": "text",
        "id": "6V5U9o3ha--2"
      },
      "source": [
        "読み込んだモデルは、上記ですでに学習済みなので、`predict`で予測が行えます"
      ]
    },
    {
      "cell_type": "code",
      "metadata": {
        "colab_type": "code",
        "id": "mgq0KeTwa--2",
        "outputId": "a0bafcc1-0b4e-44a4-a2d6-f51ef4b2695c",
        "colab": {
          "base_uri": "https://localhost:8080/"
        }
      },
      "source": [
        "clf_rf_restored.predict(X_test)"
      ],
      "execution_count": 0,
      "outputs": [
        {
          "output_type": "execute_result",
          "data": {
            "text/plain": [
              "array(['philosophy', 'mathematics', 'mathematics', 'mathematics',\n",
              "       'mathematics', 'mathematics', 'mathematics', 'philosophy',\n",
              "       'philosophy', 'mathematics', 'philosophy', 'philosophy',\n",
              "       'mathematics', 'mathematics', 'mathematics', 'mathematics',\n",
              "       'mathematics', 'philosophy', 'mathematics', 'philosophy',\n",
              "       'mathematics', 'philosophy', 'philosophy', 'mathematics',\n",
              "       'mathematics', 'mathematics', 'philosophy', 'mathematics',\n",
              "       'mathematics', 'philosophy', 'mathematics', 'mathematics',\n",
              "       'mathematics', 'mathematics', 'mathematics', 'philosophy',\n",
              "       'philosophy', 'mathematics', 'philosophy', 'mathematics',\n",
              "       'mathematics', 'mathematics', 'mathematics', 'mathematics',\n",
              "       'mathematics', 'philosophy', 'mathematics', 'mathematics',\n",
              "       'mathematics', 'philosophy', 'mathematics', 'philosophy',\n",
              "       'philosophy', 'philosophy', 'mathematics', 'philosophy',\n",
              "       'mathematics', 'mathematics', 'mathematics', 'mathematics',\n",
              "       'mathematics', 'mathematics', 'mathematics', 'mathematics',\n",
              "       'philosophy', 'mathematics', 'mathematics', 'mathematics',\n",
              "       'mathematics', 'mathematics', 'mathematics', 'mathematics',\n",
              "       'mathematics', 'philosophy', 'mathematics', 'mathematics',\n",
              "       'mathematics', 'philosophy', 'mathematics', 'philosophy',\n",
              "       'mathematics', 'mathematics', 'mathematics', 'philosophy',\n",
              "       'philosophy', 'mathematics', 'mathematics', 'mathematics',\n",
              "       'mathematics', 'philosophy', 'mathematics', 'mathematics',\n",
              "       'philosophy', 'mathematics', 'mathematics', 'mathematics',\n",
              "       'mathematics', 'mathematics', 'mathematics', 'mathematics'],\n",
              "      dtype=object)"
            ]
          },
          "metadata": {
            "tags": []
          },
          "execution_count": 51
        }
      ]
    },
    {
      "cell_type": "markdown",
      "metadata": {
        "colab_type": "text",
        "id": "KJjIJ-Fqa--3"
      },
      "source": [
        " "
      ]
    },
    {
      "cell_type": "markdown",
      "metadata": {
        "colab_type": "text",
        "id": "5arU5BH_a--4"
      },
      "source": [
        "## 【演習2】\n",
        "演習1で構築したモデルをjoblibを使って保存してみましょう。"
      ]
    },
    {
      "cell_type": "code",
      "metadata": {
        "colab_type": "code",
        "id": "ugLnx-9La--4",
        "colab": {}
      },
      "source": [
        "# Enter your code here"
      ],
      "execution_count": 0,
      "outputs": []
    },
    {
      "cell_type": "code",
      "metadata": {
        "id": "TnaU7hXDrQNn",
        "colab_type": "code",
        "colab": {}
      },
      "source": [
        ""
      ],
      "execution_count": 0,
      "outputs": []
    }
  ]
}