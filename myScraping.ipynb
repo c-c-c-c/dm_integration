{
 "cells": [
  {
   "cell_type": "code",
   "execution_count": 4,
   "metadata": {},
   "outputs": [],
   "source": [
    "from urllib import request\n",
    "from bs4 import BeautifulSoup\n",
    "import urllib.request\n",
    "import requests\n",
    "\n",
    "\n",
    "def scraping(yymm):\n",
    "    #url    \n",
    "    preurl = \"https://artv.info/ar\"\n",
    "    epiurl = \".html\"\n",
    "       \n",
    "    url = preurl + yymm +epiurl\n",
    "#     url = \"https://artv.info/ar1907.html\"\n",
    "\n",
    "    #get html\n",
    "    #html = request.urlopen(url)\n",
    "    #html = urllib.request.urlopen(url)\n",
    "    #soup = BeautifulSoup(html, \"html.parser\")\n",
    "    #r = requests.get(url)\n",
    "    #soup = BeautifulSoup(r.content, 'html.parser')\n",
    "#     r = requests.get(url)\n",
    "#     content_type_encoding = r.encoding if r.encoding != 'ISO-8859-1' else None\n",
    "#     soup = BeautifulSoup(r.content, 'html.parser', from_encoding=content_type_encoding)\n",
    "    #response = urllib.request.urlopen(url)\n",
    "    html = request.urlopen(url)\n",
    "    #html = htmleuc.decode('euc-jp', 'replace')\n",
    "    #html = response.read().decode(response.headers.get_content_charset(), errors='ignore')\n",
    "    #soup = BeautifulSoup(html, 'html.parser')\n",
    "    soup = BeautifulSoup(html, fromEncoding=\"euc-jp\")\n",
    "    \n",
    "    drama_tables = soup.select('.tableborder.ar')\n",
    "    \n",
    "    #     headlines = mainNewsIndex.find_all(\"span\", attrs={\"class\", \"headline\"})\n",
    "#     print (cast[0])\n",
    "    \n",
    "    #print headlines\n",
    "    for dt in drama_tables:\n",
    "#         print(dt.contents[0], dt)\n",
    "        cast_staff = dt.select('.left.pl5px')\n",
    "        import pdb; pdb.set_trace()\n",
    "        \n",
    "        print(cast_staff[0])\n",
    "\n",
    "    "
   ]
  },
  {
   "cell_type": "code",
   "execution_count": null,
   "metadata": {},
   "outputs": [
    {
     "name": "stdout",
     "output_type": "stream",
     "text": [
      "> <ipython-input-4-f7ae250dcb51>(41)scraping()\n",
      "-> print(cast_staff[0])\n",
      "(Pdb) cast_staff[0]\n",
      "<td class=\"left pl5px\" rowspan=\"11\">\n",
      "上野樹里、時任三郎、<br/>風間俊介、志田未来、中尾明慶、森本慎太郎、<br/>坂ノ上茜、田川隼嗣、喜多乃愛、宮本茉由、<br/>加藤柚凪、戸次重幸、平岩紙、石田ひかり、<br/>杉本哲太、板尾創路、山口智子、柄本明 etc<br/><br/>原作 ： 香川まさひと、木村直巳「監察医 朝顔」<br/>\n",
      "脚本 ： 根本ノンジ<br/>\n",
      "Ｐ ： 金城綾香<br/>\n",
      "演出 ： 平野眞、澤田鎌作 etc\n",
      "<br/><br/>\n",
      "主題歌 ： 折坂悠太『朝顔』<br/>\n",
      "</td>\n",
      "(Pdb) cast_staff[1]\n",
      "*** IndexError: list index out of range\n"
     ]
    }
   ],
   "source": [
    "yymm_arr = [\"1907\", \"1904\"]\n",
    "\n",
    "for tmp_yymm in yymm_arr:\n",
    "    scraping(tmp_yymm)\n"
   ]
  },
  {
   "cell_type": "code",
   "execution_count": null,
   "metadata": {},
   "outputs": [],
   "source": []
  }
 ],
 "metadata": {
  "kernelspec": {
   "display_name": "Python 3",
   "language": "python",
   "name": "python3"
  },
  "language_info": {
   "codemirror_mode": {
    "name": "ipython",
    "version": 3
   },
   "file_extension": ".py",
   "mimetype": "text/x-python",
   "name": "python",
   "nbconvert_exporter": "python",
   "pygments_lexer": "ipython3",
   "version": "3.7.3"
  }
 },
 "nbformat": 4,
 "nbformat_minor": 2
}
