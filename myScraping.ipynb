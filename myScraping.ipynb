{
 "cells": [
  {
   "cell_type": "code",
   "execution_count": 1,
   "metadata": {},
   "outputs": [],
   "source": [
    "from urllib import request\n",
    "from bs4 import BeautifulSoup\n",
    "import urllib.request\n",
    "import requests\n",
    "\n",
    "# URLごとにスクレイピングを行う\n",
    "def scraping(url):\n",
    "    #ページに複数ある対象部分を取得する\n",
    "    html = request.urlopen(url)\n",
    "    soup = BeautifulSoup(html, fromEncoding=\"euc-jp\")\n",
    "    drama_info_tables = soup.select('.tableborder.ar')\n",
    "    # cast\n",
    "    tmp_drama_info_dict = {}\n",
    "    for dt in drama_info_tables:\n",
    "        drama_title = dt.select('.red')\n",
    "        cast_staff = dt.select('.left.pl5px')\n",
    "        \n",
    "        # <フジテレビ>などを消す\n",
    "        drama_title_key = reshape_title(drama_title[0].text)\n",
    "        # キャストスタッフは調整中\n",
    "#         import pdb; pdb.set_trace()\n",
    "        cast_staff_value = reshape_cast_staff(str(cast_staff[0]))\n",
    "        \n",
    "        tmp_drama_info_dict[drama_title_key] = cast_staff_value\n",
    "#         print (drama_title[0])\n",
    "#         print (\"hoge\")\n",
    "#         print (drama_title[0].text)\n",
    "    \n",
    "    return tmp_drama_info_dict"
   ]
  },
  {
   "cell_type": "code",
   "execution_count": 21,
   "metadata": {},
   "outputs": [],
   "source": [
    "# 以下yymmを設定する配列\n",
    "yymm_arr = [\"1907\", \"1904\",\"1901\",\n",
    "           \"1810\", \"1807\", \"1804\", \"1801\",\n",
    "           \"1710\", \"1707\", \"1704\", \"1701\",\n",
    "           \"1610\", \"1607\", \"1604\", \"1601\", \n",
    "           \"1510\", \"1507\", \"1504\", \"1501\", \n",
    "           \"1410\", \"1407\", \"1404\", \"1401\", \n",
    "           \"1310\", \"1307\", \"1304\", \"1301\", \n",
    "           \"1210\", \"1207\", \"1204\", \"1201\", \n",
    "           \"1110\", \"1107\", \"1104\", \"1101\", \n",
    "           \"1010\", \"1007\", \"1004\", \"1001\", \n",
    "           \"0910\", \"0907\", \"0904\", \"0901\", \n",
    "           \"0810\", \"0807\", \"0804\", \"0801\", \n",
    "           \"0710\", \"0707\", \"0704\", \"0701\", \n",
    "           \"0610\", \"0607\", \"0604\", \"0601\", \n",
    "           \"0510\", \"0507\", \"0504\", \"0501\", \n",
    "           \"0410\", \"0407\", \"0404\", \"0401\", \n",
    "           \"0310\", \"0307\", \"0304\", \"0301\", ]\n",
    "# urlを配列で作成\n",
    "urls_arr =[]\n",
    "for yymm in yymm_arr:\n",
    "    preurl = \"https://artv.info/ar\"\n",
    "    epiurl = \".html\"\n",
    "    # urlを合体(ex: https://artv.info/ar1707.html )\n",
    "    url = preurl + yymm +epiurl\n",
    "    urls_arr.append(url)"
   ]
  },
  {
   "cell_type": "code",
   "execution_count": 22,
   "metadata": {},
   "outputs": [],
   "source": [
    "def reshape_cast_staff (tmp_cast_staff): \n",
    "    tmp_splited = tmp_cast_staff.split(\"<br/>\")\n",
    "    tmp_splited = [tmp_ele for tmp_ele in tmp_splited if tmp_ele]\n",
    "    import re\n",
    "    p = re.compile(r\"<[^>]*?>|\\n|\\r|\\t\")\n",
    "\n",
    "    info_arr = []\n",
    "    for tmp_text in tmp_splited:\n",
    "        #import pdb; pdb.set_trace()\n",
    "        tmp_text_after = p.sub(\"\",tmp_text)\n",
    "        if tmp_text_after:\n",
    "            info_arr.append(tmp_text_after)\n",
    "        \n",
    "    return (info_arr)"
   ]
  },
  {
   "cell_type": "code",
   "execution_count": 23,
   "metadata": {},
   "outputs": [],
   "source": [
    "def reshape_title (tmp_title): \n",
    "    \n",
    "    import re\n",
    "    p = re.compile(r\"\\u3000＜\\w+＞\")\n",
    "\n",
    "    return(p.sub(\"\",tmp_title))"
   ]
  },
  {
   "cell_type": "code",
   "execution_count": null,
   "metadata": {},
   "outputs": [],
   "source": [
    "###########\n",
    "# 実行本体\n",
    "#\n",
    "drama_info_dict = {}\n",
    "for tmp_url in urls_arr:\n",
    "    tmp_drama_info_dict = scraping(tmp_url)\n",
    "    drama_info_dict.update(tmp_drama_info_dict)\n",
    "\n",
    "import pprint\n",
    "pprint.pprint(drama_info_dict)"
   ]
  },
  {
   "cell_type": "code",
   "execution_count": null,
   "metadata": {},
   "outputs": [],
   "source": [
    "simple_json = {}\n",
    "for key in drama_info_dict.keys():\n",
    "    main_actors = drama_info_dict[key][0].split(\"、\")\n",
    "    simple_json[key] = {\"main_actor1\" : main_actors[0], \"main_actor2\" : main_actors[1]}\n",
    "#     simple_json[key][\"main_actor2\"] = main_actors if main_actors[0] else \"aa\"\n",
    "\n",
    "print(simple_json)"
   ]
  },
  {
   "cell_type": "code",
   "execution_count": null,
   "metadata": {},
   "outputs": [],
   "source": []
  }
 ],
 "metadata": {
  "kernelspec": {
   "display_name": "Python 3",
   "language": "python",
   "name": "python3"
  },
  "language_info": {
   "codemirror_mode": {
    "name": "ipython",
    "version": 3
   },
   "file_extension": ".py",
   "mimetype": "text/x-python",
   "name": "python",
   "nbconvert_exporter": "python",
   "pygments_lexer": "ipython3",
   "version": "3.7.3"
  }
 },
 "nbformat": 4,
 "nbformat_minor": 2
}
